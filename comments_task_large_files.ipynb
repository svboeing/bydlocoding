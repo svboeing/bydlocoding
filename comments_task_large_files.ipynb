{
 "cells": [
  {
   "cell_type": "code",
   "execution_count": 55,
   "metadata": {
    "collapsed": false,
    "scrolled": true
   },
   "outputs": [],
   "source": [
    "import re\n",
    "import nltk\n",
    "import string\n",
    "import os\n",
    "import gensim\n",
    "import pymorphy2\n",
    "morph = pymorphy2.MorphAnalyzer()\n",
    "from gensim.models import Word2Vec\n",
    "#from nltk.stem.snowball import RussianStemmer\n",
    "#stemmer = RussianStemmer()"
   ]
  },
  {
   "cell_type": "code",
   "execution_count": null,
   "metadata": {
    "collapsed": true
   },
   "outputs": [],
   "source": [
    "def canonize_words(words: list) -> list:\n",
    "    stop_words = ('быть', 'мой', 'наш', 'ваш', 'их', 'его', 'её', 'их',\n",
    "                  'этот', 'тот', 'где', 'который', 'либо', 'нибудь', 'нет', 'да')\n",
    "    grammars = {'NOUN': '_S',\n",
    "                'VERB': '_V', 'INFN': '_V', 'GRND': '_V', 'PRTF': '_V', 'PRTS': '_V',\n",
    "                'ADJF': '_A', 'ADJS': '_A',\n",
    "                'ADVB': '_ADV',\n",
    "                'PRED': '_PRAEDIC'}\n",
    "\n",
    "    morph = pymorphy2.MorphAnalyzer()\n",
    "    normalized = []\n",
    "    for i in words:\n",
    "        forms = morph.parse(i)\n",
    "        try:\n",
    "            form = max(forms, key=lambda x: (x.score, x.methods_stack[0][2]))\n",
    "        except Exception:\n",
    "            form = forms[0]\n",
    "            print(form)\n",
    "        if not (form.tag.POS in ['PREP', 'CONJ', 'PRCL', 'NPRO', 'NUMR']\n",
    "                or 'Name' in form.tag\n",
    "                or 'UNKN' in form.tag\n",
    "                or form.normal_form in stop_words):  # 'ADJF'\n",
    "            normalized.append(form.normal_form + grammars.get(form.tag.POS, ''))\n",
    "    return normalized"
   ]
  },
  {
   "cell_type": "markdown",
   "metadata": {},
   "source": [
    "Экземпляры класса MorphAnalyzer обычно занимают порядка 15Мб оперативной памяти (т.к. загружают в память словари, данные для предсказателя и т.д.); старайтесь организовать свой код так, чтобы создавать экземпляр MorphAnalyzer заранее и работать с этим единственным экземпляром в дальнейшем."
   ]
  },
  {
   "cell_type": "code",
   "execution_count": 2,
   "metadata": {
    "collapsed": false
   },
   "outputs": [
    {
     "data": {
      "text/plain": [
       "[Parse(word='лох', tag=OpencorporaTag('NOUN,anim,masc sing,nomn'), normal_form='лох', score=0.3333333333333333, methods_stack=((<DictionaryAnalyzer>, 'лох', 2, 0),)),\n",
       " Parse(word='лох', tag=OpencorporaTag('NOUN,inan,masc sing,nomn'), normal_form='лох', score=0.3333333333333333, methods_stack=((<DictionaryAnalyzer>, 'лох', 19, 0),)),\n",
       " Parse(word='лох', tag=OpencorporaTag('NOUN,inan,masc sing,accs'), normal_form='лох', score=0.3333333333333333, methods_stack=((<DictionaryAnalyzer>, 'лох', 19, 3),))]"
      ]
     },
     "execution_count": 2,
     "metadata": {},
     "output_type": "execute_result"
    }
   ],
   "source": [
    "morph.parse('лох')"
   ]
  },
  {
   "cell_type": "code",
   "execution_count": 35,
   "metadata": {
    "collapsed": false
   },
   "outputs": [
    {
     "data": {
      "text/plain": [
       "'masc'"
      ]
     },
     "execution_count": 35,
     "metadata": {},
     "output_type": "execute_result"
    }
   ],
   "source": [
    "p = morph.parse('лох')[2]\n",
    "p.tag\n",
    "p.tag.POS #chast rechi\n",
    "p.tag.case #padesh\n",
    "p.tag.number\n",
    "p.tag.gender"
   ]
  },
  {
   "cell_type": "markdown",
   "metadata": {},
   "source": [
    "http://pymorphy2.readthedocs.io/en/latest/user/grammemes.html#grammeme-docs"
   ]
  },
  {
   "cell_type": "code",
   "execution_count": 11,
   "metadata": {
    "collapsed": false
   },
   "outputs": [
    {
     "data": {
      "text/plain": [
       "'лох'"
      ]
     },
     "execution_count": 11,
     "metadata": {},
     "output_type": "execute_result"
    }
   ],
   "source": [
    "p.normal_form"
   ]
  },
  {
   "cell_type": "code",
   "execution_count": 16,
   "metadata": {
    "collapsed": false
   },
   "outputs": [
    {
     "data": {
      "text/plain": [
       "'СУЩ,неод,мр ед,вн'"
      ]
     },
     "execution_count": 16,
     "metadata": {},
     "output_type": "execute_result"
    }
   ],
   "source": [
    "p.tag.cyr_repr"
   ]
  },
  {
   "cell_type": "code",
   "execution_count": 15,
   "metadata": {
    "collapsed": false
   },
   "outputs": [
    {
     "data": {
      "text/plain": [
       "True"
      ]
     },
     "execution_count": 15,
     "metadata": {},
     "output_type": "execute_result"
    }
   ],
   "source": [
    "{'NOUN', 'inan'} in p.tag"
   ]
  },
  {
   "cell_type": "code",
   "execution_count": 20,
   "metadata": {
    "collapsed": false
   },
   "outputs": [
    {
     "data": {
      "text/plain": [
       "'лохов'"
      ]
     },
     "execution_count": 20,
     "metadata": {},
     "output_type": "execute_result"
    }
   ],
   "source": [
    "p.inflect({'gent', 'plur'}).word"
   ]
  },
  {
   "cell_type": "code",
   "execution_count": 25,
   "metadata": {
    "collapsed": false
   },
   "outputs": [
    {
     "data": {
      "text/plain": [
       "'лоха'"
      ]
     },
     "execution_count": 25,
     "metadata": {},
     "output_type": "execute_result"
    }
   ],
   "source": [
    "p.lexeme[1].word #vse slovoformy"
   ]
  },
  {
   "cell_type": "code",
   "execution_count": 23,
   "metadata": {
    "collapsed": false
   },
   "outputs": [
    {
     "data": {
      "text/plain": [
       "'лохов'"
      ]
     },
     "execution_count": 23,
     "metadata": {},
     "output_type": "execute_result"
    }
   ],
   "source": [
    "p.make_agree_with_number(5).word"
   ]
  },
  {
   "cell_type": "code",
   "execution_count": 39,
   "metadata": {
    "collapsed": false
   },
   "outputs": [
    {
     "data": {
      "text/plain": [
       "'СУЩ,неод,мр ед,им'"
      ]
     },
     "execution_count": 39,
     "metadata": {},
     "output_type": "execute_result"
    }
   ],
   "source": [
    "morph.parse('йопт')[0].tag.cyr_repr"
   ]
  },
  {
   "cell_type": "markdown",
   "metadata": {},
   "source": [
    "##### Загружаем обученную на русской Википедии модель word2vec"
   ]
  },
  {
   "cell_type": "code",
   "execution_count": 42,
   "metadata": {
    "collapsed": false
   },
   "outputs": [],
   "source": [
    "wiki = gensim.models.KeyedVectors.load_word2vec_format('C:\\\\Users\\\\user\\\\Downloads\\\\vectors-ru_wiki\\\\vectors.bin', binary=True)\n",
    "#ёmodel.similar_by_word('луна')\n",
    "#model.most_similar(positive = ['луна'])"
   ]
  },
  {
   "cell_type": "code",
   "execution_count": 44,
   "metadata": {
    "collapsed": false
   },
   "outputs": [
    {
     "data": {
      "text/plain": [
       "[('планета', 0.6772274971008301),\n",
       " ('солнце', 0.6740930676460266),\n",
       " ('луны', 0.668319046497345),\n",
       " ('луна\\xa0—', 0.6592304706573486),\n",
       " ('земля', 0.6425585150718689),\n",
       " ('венера', 0.6219674348831177),\n",
       " ('луной', 0.6106811761856079),\n",
       " ('марс\\xa0—', 0.6072146892547607),\n",
       " ('солнца', 0.5985816717147827),\n",
       " ('юпитер\\xa0—', 0.5922582745552063)]"
      ]
     },
     "execution_count": 44,
     "metadata": {},
     "output_type": "execute_result"
    }
   ],
   "source": [
    "wiki.most_similar(positive = ['луна'])"
   ]
  },
  {
   "cell_type": "markdown",
   "metadata": {},
   "source": [
    "##### Паттерн для парсинга новостей в вики-разметке"
   ]
  },
  {
   "cell_type": "code",
   "execution_count": 5,
   "metadata": {
    "collapsed": true
   },
   "outputs": [],
   "source": [
    "news_pattern = r'''(?x)\\\",\\s\\\"URL[\\w\\W]+|[0-9]+\\-[0-9]+\\-[0-9]+\n",
    "    |((?<=\\s)\\s)+|<[^>]*>|\\[[^\\]]*\\]|[\\\\\\\"\\'\\n,:;\\(\\)]\n",
    "    |[^а-яА-ЯёЁ%\\\"?!\\n\\.,\\s\\-\\—:\\(\\)]+[,\\.\\n\\\\n\\-\\—:0-9\\(\\)\\[\\]]*''' #0-9"
   ]
  },
  {
   "cell_type": "markdown",
   "metadata": {},
   "source": [
    "##### Блок для парсинга новостей из вики-разметки сайтов"
   ]
  },
  {
   "cell_type": "code",
   "execution_count": 6,
   "metadata": {
    "collapsed": false,
    "scrolled": true
   },
   "outputs": [
    {
     "name": "stdout",
     "output_type": "stream",
     "text": [
      "['.ipynb_checkpoints', 'aif.post.txt', 'comments_task.ipynb', 'comments_task_large_files.ipynb', 'echo.post.txt', 'facebook.post.txt', 'gazeta.post.txt', 'inosmi.post.txt', 'Ivanov_Alexandr_1.ipynb', 'izvestia.post.txt', 'kommersant.post.txt', 'kp.post.txt', 'lenta.post.txt', 'LSA.ipynb', 'mined_texts', 'news_comments_mining-Copy1.ipynb', 'news_comments_mining.ipynb', 'ng.post.txt', 'PA_linreg_stochastic_grad_descent.ipynb', 'results', 'ria.post.txt', 'silverrain.post.txt', 'svpressa.post.txt', 'tales', 'test.txt', 'TEST_FILE.txt', 'Untitled.ipynb', 'Untitled1.ipynb', 'Untitled2.ipynb', 'vedomosti.post.txt', 'vz.post.txt']\n",
      "aif.post.txt 1\n",
      "gazeta.post.txt 1\n",
      "inosmi.post.txt 1\n",
      "izvestia.post.txt 1\n",
      "kommersant.post.txt 1\n",
      "kp.post.txt 1\n",
      "lenta.post.txt 1\n",
      "ng.post.txt 1\n",
      "ria.post.txt 1\n",
      "silverrain.post.txt 1\n",
      "vedomosti.post.txt 1\n"
     ]
    }
   ],
   "source": [
    "def process(string, news_file):\n",
    "    shorted_string = re.sub(r\"\\\"type\\\"\\s?:\\s?\\\"news\\\".+\", \"\", string)\n",
    "    if (len(shorted_string) != len(string)):\n",
    "        string = re.sub(news_pattern, \"\", string)\n",
    "        string = re.sub(r\"(\\s(?=\\s))*?\", \"\", string)\n",
    "        news_file.write(string.lower())\n",
    "        news_file.write(\" \")\n",
    "\n",
    "raw_all_news_comments = ''\n",
    "file_names = os.listdir(\".\")\n",
    "print(file_names)\n",
    "if not (\"mined_texts\" in file_names):\n",
    "    os.mkdir(\"mined_texts\")\n",
    "if not (\"results\" in file_names):\n",
    "    os.mkdir(\"results\")\n",
    "    \n",
    "#TEST_FILE = open(\"TEST_FILE.txt\", 'w', encoding = 'utf8')\n",
    "for file_name in file_names:\n",
    "    is_txt = re.search(r\"\\.post\\.txt\", file_name)\n",
    "    if (not (is_txt == None)):\n",
    "        if (not (file_name in [\"facebook.post.txt\", \"vz.post.txt\", \"svpressa.post.txt\", \"echo.post.txt\"])): \n",
    "        #на facebook и echo - только комментарии, на vz и svpressa - только блоги и комментарии\n",
    "            news_file = open(\"mined_texts\\\\news_from_\" + file_name, \"w\", encoding = \"utf8\")\n",
    "            #TEST_FILE.write(file_name + '\\n')\n",
    "            raw_news_comments_file = open(file_name, \"r\", encoding = \"utf8\")\n",
    "            chop = raw_news_comments_file.read(2*(10**8)) #читаем кусок в 200 мегабайт\n",
    "            raw_line = \"\"\n",
    "            index = 0\n",
    "            while (chop != \"\") and (chop != None):\n",
    "                index += 1\n",
    "                if (len(raw_line) < 2*(10**6)):\n",
    "                    raw_line += chop\n",
    "                else:\n",
    "                    raw_line = chop #too long\n",
    "                splitted = re.split(r\"\\\"plainText\\\"\\s:\\s\\\"|\\\"plainText\\\":\\\"\", raw_line)\n",
    "                if (len(splitted)!= 0):\n",
    "                    for i in range(len(splitted) - 1):\n",
    "                        process(splitted[i], news_file)\n",
    "                    raw_line = splitted[len(splitted) - 1]\n",
    "                chop = raw_news_comments_file.read(2*(10**6))\n",
    "            print(file_name, index)\n",
    "            news_file.close()\n",
    "            raw_news_comments_file.close()            "
   ]
  },
  {
   "cell_type": "markdown",
   "metadata": {},
   "source": [
    "###### Паттерн для парсинга комментариев в вики-разметке"
   ]
  },
  {
   "cell_type": "code",
   "execution_count": 45,
   "metadata": {
    "collapsed": true
   },
   "outputs": [],
   "source": [
    "comments_pattern = r'''(?x)\\\",\\s\\\"URL[\\w\\W]+|\\s(?=\\s)\n",
    "    |\\\\|\\\\n|&[^;]*;|<[^>]*>|\\[[^\\]]*\\]|[0-9,]+(?=\\s)\n",
    "    |[^а-яА-ЯёЁ\\%\\\"?!\\n\\.,\\s\\-\\—:\\(\\)]+[,\\.\\s\\n\\\\n\\-\\—:0-9\\(\\)]*'''"
   ]
  },
  {
   "cell_type": "code",
   "execution_count": 46,
   "metadata": {
    "collapsed": false,
    "scrolled": true
   },
   "outputs": [],
   "source": [
    "def space_after_punkt(matchobj):\n",
    "    if matchobj.group(2) == \".\": return (matchobj.group(1)+\". \")\n",
    "    if (matchobj.group(1) != \"\") and (matchobj.group(2) == \"-\"): return (matchobj.group(1)+\"-\")\n",
    "    if (matchobj.group(1) == \"\") and (matchobj.group(2) == \"-\"): return \" - \"\n",
    "    if (matchobj.group(1) != \"\") and (matchobj.group(2) == \"—\"): return (matchobj.group(1)+\"—\")\n",
    "    if (matchobj.group(1) == \"\") and (matchobj.group(2) == \"—\"): return \" — \"\n",
    "    if matchobj.group(2) == \",\": return (matchobj.group(1)+\", \")\n",
    "    if matchobj.group(2) == \":\": return (matchobj.group(1)+\": \")\n",
    "    else: return \"\";"
   ]
  },
  {
   "cell_type": "markdown",
   "metadata": {},
   "source": [
    "###### Открываем файл lenta.post.txt, достаем из него комментарии, парсим их и записываем в файл."
   ]
  },
  {
   "cell_type": "code",
   "execution_count": 47,
   "metadata": {
    "collapsed": false,
    "scrolled": true
   },
   "outputs": [],
   "source": [
    "lenta_raw_comments_file = open(\"lenta.post.txt\", \"r\", encoding = \"utf8\")\n",
    "lenta_raw_comments = lenta_raw_comments_file.read()\n",
    "\n",
    "raw_comments_list = re.findall(r'''(?x)(?<=\\\"plainText\\\"\\s:\\s\\\").+?\n",
    "    (?=\\\"type\\\"\\s:\\s\\\"comment\\\",\\s\\\"status\\\"\\s:\\s\\\"regular\\\")''', lenta_raw_comments)\n",
    "comments_file = open(\"mined_texts\\\\comments.txt\", \"w\", encoding = \"utf8\")\n",
    "for raw_comment in raw_comments_list:\n",
    "    comment = re.sub(comments_pattern, \"\", raw_comment)\n",
    "    #Здесь во всех случаях, когда - и — без пробелов разделяют слова, они выделяются пробелами(кроме случаев вроде \"80-е\").\n",
    "    #это сделано потому, что комментаторы часто пропускают пробелы там, где они нужны. При этом мы также разделяем слова, которые\n",
    "    #не должны быть разделены, но цена этого не так высока.\n",
    "    comment = re.sub(r\"([0-9]*)([\\.,\\—\\-:](?=[^\\s\\.]))\", space_after_punkt, comment)\n",
    "    #Заменяем множественный символ конца предложения и смайлы на простую точку.\n",
    "    comment = re.sub(r\"[\\?!\\(\\)]+|[:=;][\\)\\(\\D\\[\\]]+\", \". \", comment)\n",
    "    comments_file.write(comment.lower())\n",
    "    comments_file.write(\" \")\n",
    "comments_file.close()"
   ]
  },
  {
   "cell_type": "markdown",
   "metadata": {},
   "source": [
    "###### Пишем токенайзер на основе word_tokenize из nltk. Если stem == True, выполняем стемминг токенов.(в тестовом режиме стемминг больше не производится. ВСЕ СЛОВА ПРИВОДЯТСЯ К НОРМАЛЬНОЙ ФОРМЕ.)"
   ]
  },
  {
   "cell_type": "code",
   "execution_count": 48,
   "metadata": {
    "collapsed": false
   },
   "outputs": [],
   "source": [
    "#from nltk.corpus import stopwords\n",
    "\n",
    "def my_tokenizer(file_text, stem):\n",
    "    file_text = re.sub(r\"\\.+\", \"$\", file_text)\n",
    "    tokens = nltk.word_tokenize(file_text.lower())\n",
    "    #if stem == True:\n",
    "    #    tokens = [stemmer.stem(i) for i in tokens]\n",
    "    #stop_words = []\n",
    "    #stop_words = stopwords.words('russian')\n",
    "    #stop_words.extend(['что', 'это', 'так', 'вот', 'быть', 'как', 'в', 'к', 'на'])\n",
    "    #tokens = [re.sub(r\"|[0-9]+[,\\.][0-9]+|[0-9]+|\\.+\", \"\",i) for i in tokens]\n",
    "    #tokens = [i for i in tokens if ((i not in stop_words) and (re.search(r\"[^а-яА-ЯёЁ$\\-]\", i) == None))]\n",
    "    for i in range(len(tokens)):\n",
    "        if re.search(r\"[^а-яА-ЯёЁ$\\-]\", tokens[i]) != None:\n",
    "            tokens[i] = \"$\"\n",
    "        else:\n",
    "            tokens[i] = morph.parse(tokens[i])[0].normal_form\n",
    "    \n",
    "    \n",
    "    #print(tokens)\n",
    "    #    if (len(token) == 1) and (token in ['а','и','в','у','','','']\n",
    "    #tokens = [i.replace(\"«\", \"\").replace(\"»\", \"\") for i in tokens]\n",
    "    return tokens\n",
    "#i not in [\"\",\"…\",\"`\",\"«\",\"»\",\"“\",\"„\",',','``',\"\\\"\",\"'\",\"''\",\"-\",\"–\",\"—\",\"?\",\"...\",\"!\",\"%\",\":\",\";\",\"(\", \")\",\"..\"])\\"
   ]
  },
  {
   "cell_type": "code",
   "execution_count": 49,
   "metadata": {
    "collapsed": false
   },
   "outputs": [
    {
     "name": "stdout",
     "output_type": "stream",
     "text": [
      "['я', 'любить', 'жопа', '$', 'мой', '$', '$', '$', 'хотеть', '$', 'телок', '$']\n"
     ]
    }
   ],
   "source": [
    "print(my_tokenizer(\"Я люблю жопу... Мою жhпу h ^ хотят% телки.\", False))"
   ]
  },
  {
   "cell_type": "markdown",
   "metadata": {},
   "source": [
    "##### Токенизируем комментарии."
   ]
  },
  {
   "cell_type": "code",
   "execution_count": 50,
   "metadata": {
    "collapsed": false
   },
   "outputs": [],
   "source": [
    "comments_file = open(\"mined_texts\\\\comments.txt\", \"r\", encoding = \"utf8\")\n",
    "untokenized_comments = comments_file.read()\n",
    "comments_tokens = my_tokenizer(untokenized_comments, stem = False)"
   ]
  },
  {
   "cell_type": "code",
   "execution_count": 51,
   "metadata": {
    "collapsed": false
   },
   "outputs": [
    {
     "name": "stdout",
     "output_type": "stream",
     "text": [
      "394487\n"
     ]
    }
   ],
   "source": [
    "print(len(comments_tokens))"
   ]
  },
  {
   "cell_type": "code",
   "execution_count": 52,
   "metadata": {
    "collapsed": true
   },
   "outputs": [],
   "source": [
    "class MySentences(object):\n",
    "    def __init__(self, tokens):\n",
    "        self.tokens = tokens\n",
    " \n",
    "    def __iter__(self):\n",
    "        i = 0\n",
    "        while i < len(self.tokens):\n",
    "            sentence = []\n",
    "            while i < len(self.tokens) and self.tokens[i] ==\"$\":\n",
    "                i+=1\n",
    "            while i < len(self.tokens) and self.tokens[i]!=\"$\":\n",
    "                sentence.append(self.tokens[i])\n",
    "                i+=1\n",
    "            yield(sentence)"
   ]
  },
  {
   "cell_type": "code",
   "execution_count": 36,
   "metadata": {
    "collapsed": false
   },
   "outputs": [
    {
     "name": "stdout",
     "output_type": "stream",
     "text": [
      "$\n"
     ]
    }
   ],
   "source": [
    "print(comments_tokens[len(comments_tokens)-1])"
   ]
  },
  {
   "cell_type": "code",
   "execution_count": 53,
   "metadata": {
    "collapsed": false
   },
   "outputs": [
    {
     "name": "stdout",
     "output_type": "stream",
     "text": [
      "['русскоязычный', 'население']\n",
      "['кишинёвнаш']\n",
      "['ни', 'для', 'кто', 'не', 'секрет', 'что', 'у', 'власть', 'в', 'молдова', 'политика', 'купленый', 'москва', 'хватить', 'спамить']\n",
      "['вот', 'когда', 'весь', 'увидеть', 'он']\n",
      "['последствие']\n",
      "['тогда', 'и', 'поговорить', 'и', 'ни', 'один', 'реиса', 'с', 'восток', 'кроме', 'константинополье', '-', 'так', 'откуда', 'терор', '-', 'или', 'вы', 'хотеть', 'сказать', 'что', 'из', 'параша', 'летать', 'гастербайтер', 'один']\n",
      "['или', 'поставка', 'в', 'молдова', 'россииский', 'терорист']\n",
      "['для', 'дестабилизация', 'ситуация', 'бессарабский', 'губерния', 'чё']\n",
      "['ты', 'видимо', 'география', 'не', 'учить']\n",
      "['у', 'молдаванин', 'нет', 'прямой', 'выход', 'к', 'море']\n",
      "['идти', 'проспаться']\n",
      "['от', 'сума', 'и', 'от', 'тюрьма', 'не', 'зарекаться']\n",
      "['брейвика', 'в']\n"
     ]
    }
   ],
   "source": [
    "for shit in MySentences(comments_tokens[3:100]):\n",
    "    print(shit)"
   ]
  },
  {
   "cell_type": "code",
   "execution_count": 39,
   "metadata": {
    "collapsed": false
   },
   "outputs": [],
   "source": [
    "model = Word2Vec(sentences = MySentences(comments_tokens), min_count=0, window = 10, sg = 1, hs = 1, negative = 0)"
   ]
  },
  {
   "cell_type": "code",
   "execution_count": 54,
   "metadata": {
    "collapsed": true
   },
   "outputs": [],
   "source": [
    "model_stem = Word2Vec(sentences = MySentences(comments_tokens), min_count=0, window = 10, sg = 1, hs = 1, negative = 0)"
   ]
  },
  {
   "cell_type": "code",
   "execution_count": 74,
   "metadata": {
    "collapsed": false
   },
   "outputs": [],
   "source": [
    "model_norm = Word2Vec(sentences = MySentences(comments_tokens), min_count=7, window = 10, sg = 1, hs = 1, negative = 0)"
   ]
  },
  {
   "cell_type": "code",
   "execution_count": 55,
   "metadata": {
    "collapsed": true
   },
   "outputs": [],
   "source": [
    "model_stem.save('C:\\\\Users\\\\user\\\\Documents\\\\%HOME%\\\\Word2Vecs\\\\model1stemmed')"
   ]
  },
  {
   "cell_type": "code",
   "execution_count": 66,
   "metadata": {
    "collapsed": false
   },
   "outputs": [
    {
     "ename": "KeyError",
     "evalue": "\"word 'хуй' not in vocabulary\"",
     "output_type": "error",
     "traceback": [
      "\u001b[0;31m---------------------------------------------------------------------------\u001b[0m",
      "\u001b[0;31mKeyError\u001b[0m                                  Traceback (most recent call last)",
      "\u001b[0;32m<ipython-input-66-eac33414dc95>\u001b[0m in \u001b[0;36m<module>\u001b[0;34m()\u001b[0m\n\u001b[0;32m----> 1\u001b[0;31m \u001b[0mmodel\u001b[0m\u001b[1;33m.\u001b[0m\u001b[0mwv\u001b[0m\u001b[1;33m.\u001b[0m\u001b[0mmost_similar\u001b[0m\u001b[1;33m(\u001b[0m\u001b[1;34m\"хуй\"\u001b[0m\u001b[1;33m)\u001b[0m\u001b[1;33m\u001b[0m\u001b[0m\n\u001b[0m",
      "\u001b[0;32mC:\\Users\\user\\Anaconda3\\lib\\site-packages\\gensim\\models\\keyedvectors.py\u001b[0m in \u001b[0;36mmost_similar\u001b[0;34m(self, positive, negative, topn, restrict_vocab, indexer)\u001b[0m\n\u001b[1;32m    318\u001b[0m                 \u001b[0mmean\u001b[0m\u001b[1;33m.\u001b[0m\u001b[0mappend\u001b[0m\u001b[1;33m(\u001b[0m\u001b[0mweight\u001b[0m \u001b[1;33m*\u001b[0m \u001b[0mword\u001b[0m\u001b[1;33m)\u001b[0m\u001b[1;33m\u001b[0m\u001b[0m\n\u001b[1;32m    319\u001b[0m             \u001b[1;32melse\u001b[0m\u001b[1;33m:\u001b[0m\u001b[1;33m\u001b[0m\u001b[0m\n\u001b[0;32m--> 320\u001b[0;31m                 \u001b[0mmean\u001b[0m\u001b[1;33m.\u001b[0m\u001b[0mappend\u001b[0m\u001b[1;33m(\u001b[0m\u001b[0mweight\u001b[0m \u001b[1;33m*\u001b[0m \u001b[0mself\u001b[0m\u001b[1;33m.\u001b[0m\u001b[0mword_vec\u001b[0m\u001b[1;33m(\u001b[0m\u001b[0mword\u001b[0m\u001b[1;33m,\u001b[0m \u001b[0muse_norm\u001b[0m\u001b[1;33m=\u001b[0m\u001b[1;32mTrue\u001b[0m\u001b[1;33m)\u001b[0m\u001b[1;33m)\u001b[0m\u001b[1;33m\u001b[0m\u001b[0m\n\u001b[0m\u001b[1;32m    321\u001b[0m                 \u001b[1;32mif\u001b[0m \u001b[0mword\u001b[0m \u001b[1;32min\u001b[0m \u001b[0mself\u001b[0m\u001b[1;33m.\u001b[0m\u001b[0mvocab\u001b[0m\u001b[1;33m:\u001b[0m\u001b[1;33m\u001b[0m\u001b[0m\n\u001b[1;32m    322\u001b[0m                     \u001b[0mall_words\u001b[0m\u001b[1;33m.\u001b[0m\u001b[0madd\u001b[0m\u001b[1;33m(\u001b[0m\u001b[0mself\u001b[0m\u001b[1;33m.\u001b[0m\u001b[0mvocab\u001b[0m\u001b[1;33m[\u001b[0m\u001b[0mword\u001b[0m\u001b[1;33m]\u001b[0m\u001b[1;33m.\u001b[0m\u001b[0mindex\u001b[0m\u001b[1;33m)\u001b[0m\u001b[1;33m\u001b[0m\u001b[0m\n",
      "\u001b[0;32mC:\\Users\\user\\Anaconda3\\lib\\site-packages\\gensim\\models\\keyedvectors.py\u001b[0m in \u001b[0;36mword_vec\u001b[0;34m(self, word, use_norm)\u001b[0m\n\u001b[1;32m    271\u001b[0m                 \u001b[1;32mreturn\u001b[0m \u001b[0mself\u001b[0m\u001b[1;33m.\u001b[0m\u001b[0msyn0\u001b[0m\u001b[1;33m[\u001b[0m\u001b[0mself\u001b[0m\u001b[1;33m.\u001b[0m\u001b[0mvocab\u001b[0m\u001b[1;33m[\u001b[0m\u001b[0mword\u001b[0m\u001b[1;33m]\u001b[0m\u001b[1;33m.\u001b[0m\u001b[0mindex\u001b[0m\u001b[1;33m]\u001b[0m\u001b[1;33m\u001b[0m\u001b[0m\n\u001b[1;32m    272\u001b[0m         \u001b[1;32melse\u001b[0m\u001b[1;33m:\u001b[0m\u001b[1;33m\u001b[0m\u001b[0m\n\u001b[0;32m--> 273\u001b[0;31m             \u001b[1;32mraise\u001b[0m \u001b[0mKeyError\u001b[0m\u001b[1;33m(\u001b[0m\u001b[1;34m\"word '%s' not in vocabulary\"\u001b[0m \u001b[1;33m%\u001b[0m \u001b[0mword\u001b[0m\u001b[1;33m)\u001b[0m\u001b[1;33m\u001b[0m\u001b[0m\n\u001b[0m\u001b[1;32m    274\u001b[0m \u001b[1;33m\u001b[0m\u001b[0m\n\u001b[1;32m    275\u001b[0m     \u001b[1;32mdef\u001b[0m \u001b[0mmost_similar\u001b[0m\u001b[1;33m(\u001b[0m\u001b[0mself\u001b[0m\u001b[1;33m,\u001b[0m \u001b[0mpositive\u001b[0m\u001b[1;33m=\u001b[0m\u001b[1;33m[\u001b[0m\u001b[1;33m]\u001b[0m\u001b[1;33m,\u001b[0m \u001b[0mnegative\u001b[0m\u001b[1;33m=\u001b[0m\u001b[1;33m[\u001b[0m\u001b[1;33m]\u001b[0m\u001b[1;33m,\u001b[0m \u001b[0mtopn\u001b[0m\u001b[1;33m=\u001b[0m\u001b[1;36m10\u001b[0m\u001b[1;33m,\u001b[0m \u001b[0mrestrict_vocab\u001b[0m\u001b[1;33m=\u001b[0m\u001b[1;32mNone\u001b[0m\u001b[1;33m,\u001b[0m \u001b[0mindexer\u001b[0m\u001b[1;33m=\u001b[0m\u001b[1;32mNone\u001b[0m\u001b[1;33m)\u001b[0m\u001b[1;33m:\u001b[0m\u001b[1;33m\u001b[0m\u001b[0m\n",
      "\u001b[0;31mKeyError\u001b[0m: \"word 'хуй' not in vocabulary\""
     ]
    }
   ],
   "source": [
    "model.wv.most_similar(\"хуй\")"
   ]
  },
  {
   "cell_type": "code",
   "execution_count": 65,
   "metadata": {
    "collapsed": false
   },
   "outputs": [
    {
     "data": {
      "text/plain": [
       "[('перегруз', 0.6806601285934448),\n",
       " ('мегаядерн', 0.6594175100326538),\n",
       " ('ракетонесущ', 0.6386466026306152),\n",
       " ('звиздун', 0.6290217638015747),\n",
       " ('ведьм', 0.6150438785552979),\n",
       " ('безобидн', 0.6143378615379333),\n",
       " ('стеснительн', 0.6141873598098755),\n",
       " ('заразител', 0.6136988997459412),\n",
       " ('хохслуслик', 0.611823320388794),\n",
       " ('кает', 0.6069585680961609)]"
      ]
     },
     "execution_count": 65,
     "metadata": {},
     "output_type": "execute_result"
    }
   ],
   "source": [
    "model_stem.wv.most_similar(stemmer.stem(\"хуй\"))"
   ]
  },
  {
   "cell_type": "code",
   "execution_count": 67,
   "metadata": {
    "collapsed": true
   },
   "outputs": [],
   "source": [
    "if \"хуй\" in comments_tokens:\n",
    "    print(\"tru dat\")"
   ]
  },
  {
   "cell_type": "markdown",
   "metadata": {},
   "source": [
    "##### Токенизируем корпус новостей: блок для токенизации большого \"чистого\" корпуса."
   ]
  },
  {
   "cell_type": "code",
   "execution_count": 32,
   "metadata": {
    "collapsed": false
   },
   "outputs": [
    {
     "name": "stdout",
     "output_type": "stream",
     "text": [
      "opened\n",
      "idioma1-tokenized.txt\n"
     ]
    }
   ],
   "source": [
    "news_tokens = []\n",
    "file_names = os.listdir(\"mined_texts\")\n",
    "#Открываем файлы с новостями и комментариями, разбиваем текст на токены.\n",
    "for file_name in file_names:\n",
    "    #is_txt = re.search(r\"news_from_[^\\.]*\\.post\\.txt\", file_name)\n",
    "    #if not (is_txt == None) or (file_name == \"idioma1-tokenized.txt\"):\n",
    "    if (file_name == \"idioma1-tokenized.txt\"):\n",
    "        #print(file_name)\n",
    "        news_file = open(\"mined_texts\\\\\"+file_name, \"r\", encoding = \"utf8\")\n",
    "        print(\"opened\")\n",
    "        #index = 0\n",
    "        untokenized_news = news_file.read(2*(10**6)) #2*(10**6)\n",
    "        while (untokenized_news != \"\") and (untokenized_news != None) and (len(news_tokens) < 10**7): #SHIT **7\n",
    "            while(untokenized_news[len(untokenized_news)-1] not in [\" \", \".\"]):\n",
    "                letter = news_file.read(1)\n",
    "                if (letter != \"\"):\n",
    "                    #print(\"letter\")\n",
    "                    untokenized_news += letter\n",
    "                else:\n",
    "                    break #файл дочитан до конца\n",
    "            #index += 1\n",
    "            #print(index)\n",
    "            news_tokens += my_tokenizer(untokenized_news, stem = False)\n",
    "            #print(\"tok\", len(news_tokens))\n",
    "            untokenized_news = news_file.read(2*(10**4)) #2*(10**6)\n",
    "            #print(\"*\")\n",
    "        print(file_name)"
   ]
  },
  {
   "cell_type": "markdown",
   "metadata": {},
   "source": [
    "##### Блок для токенизации новостей, полученных из вики-разметки."
   ]
  },
  {
   "cell_type": "code",
   "execution_count": 14,
   "metadata": {
    "collapsed": false
   },
   "outputs": [
    {
     "name": "stdout",
     "output_type": "stream",
     "text": [
      "news_from_aif.post.txt\n",
      "news_from_gazeta.post.txt\n",
      "news_from_inosmi.post.txt\n",
      "news_from_izvestia.post.txt\n",
      "news_from_kommersant.post.txt\n",
      "news_from_kp.post.txt\n",
      "news_from_lenta.post.txt\n",
      "news_from_ng.post.txt\n",
      "news_from_ria.post.txt\n",
      "news_from_silverrain.post.txt\n",
      "news_from_vedomosti.post.txt\n"
     ]
    }
   ],
   "source": [
    "news_tokens = []\n",
    "file_names = os.listdir(\"mined_texts\")\n",
    "#Открываем файлы с новостями и комментариями, разбиваем текст на токены.\n",
    "for file_name in file_names:\n",
    "    is_txt = re.search(r\"news_from_[^\\.]*\\.post\\.txt\", file_name)\n",
    "    if not ((is_txt == None) or (file_name == \"idioma1-tokenized.txt\")):\n",
    "    #if (file_name == \"idioma1-tokenized.txt\"):\n",
    "        print(file_name)\n",
    "        news_file = open(\"mined_texts\\\\\"+file_name, \"r\", encoding = \"utf8\")\n",
    "        #print(\"opened\")\n",
    "        #index = 0\n",
    "        untokenized_news = news_file.read(2*(10**6))\n",
    "        while (untokenized_news != \"\") and (untokenized_news != None) and (len(news_tokens) < 10**7):\n",
    "            while(untokenized_news[len(untokenized_news)-1] not in [\" \", \".\"]):\n",
    "                letter = news_file.read(1)\n",
    "                if (letter != \"\"):\n",
    "                    #print(\"letter\")\n",
    "                    untokenized_news += letter\n",
    "                else:\n",
    "                    break #файл дочитан до конца\n",
    "            #index += 1\n",
    "            #print(index)\n",
    "            news_tokens += my_tokenizer(untokenized_news, stem = False)\n",
    "            #print(\"tok\", len(news_tokens))\n",
    "            untokenized_news = news_file.read(2*(10**6))\n",
    "            #print(\"*\")\n",
    "        #print(file_name)"
   ]
  },
  {
   "cell_type": "code",
   "execution_count": 9,
   "metadata": {
    "collapsed": false
   },
   "outputs": [
    {
     "name": "stdout",
     "output_type": "stream",
     "text": [
      "['$', 'почему', 'же', 'критерий', 'не', 'работает', '$', 'он', 'работает', 'хуже', 'чем', 'нужно', '$', 'почему', 'же', 'он', 'не', 'работает', '$']\n"
     ]
    }
   ],
   "source": [
    "test_str = \".Почему же критерий не работает. Он работает хуже, чем нужно. Почему же он не работает.\"\n",
    "news_tokens = my_tokenizer(test_str, stem = False)\n",
    "print(news_tokens)"
   ]
  },
  {
   "cell_type": "code",
   "execution_count": 33,
   "metadata": {
    "collapsed": false,
    "scrolled": true
   },
   "outputs": [
    {
     "name": "stdout",
     "output_type": "stream",
     "text": [
      "10002618\n"
     ]
    }
   ],
   "source": [
    "#Количество токенов из новостей\n",
    "print(len(news_tokens))"
   ]
  },
  {
   "cell_type": "code",
   "execution_count": 32,
   "metadata": {
    "collapsed": false
   },
   "outputs": [
    {
     "name": "stdout",
     "output_type": "stream",
     "text": [
      "['не', 'только', 'любое', 'упоминание', 'наркотиков', 'вне', 'научного', 'просветительства', 'но', 'и', 'тема', 'наркомании', 'ассоциированная', 'с', 'известными', 'уважаемыми', 'людьми', 'прошлого', 'и', 'настоящего', 'какой-нибудь', 'фильм', 'типа', 'высоцкий', '$', 'спасибо', 'что', 'живой', 'или', 'просто', 'любыми', 'энергичными', 'добрыми', 'и/или', 'обаятельными', 'ребятами-киногероями', 'как', 'бы', 'ни', 'уверяли', 'нас', 'авторы', 'в', 'обратном', '$', 'дети', 'и', 'подростки', 'всегда', 'объект', 'влияния', 'и', 'воспитания', 'такова', 'природа', 'этого', 'возраста', '$', 'они', 'не', 'могут', 'без', 'авторитета', 'и', 'без', 'примера', 'для', 'подражания', '$', 'при', 'недостатке', 'или', 'отсутствии', 'внимания', 'со', 'стороны', 'родителей', 'других', 'родственников', 'педагогов', 'и', 'врачей', 'воспитателями', 'становятся', 'преступные', 'группы', 'и', 'наркопропагандисты', '$', 'голоса', 'за', 'легализацию', 'наркотиков', 'по', 'обыкновению', 'сопровождаются', 'упоминанием', 'разрешенных', 'табака', 'и', 'алкоголя', 'и', 'якобы', 'возникающей', 'в', 'связи', 'с', 'этим', 'двойной', 'морали', 'убийственный', 'довод', 'достойный', 'продвинутого', 'пятиклассника-эрудита', '$', 'за', 'последнюю', 'четверть', 'века', 'наркомания', 'прочно', 'вошла', 'в', 'нашу', 'жизнь', 'и', 'уверенно', 'заняла', 'своё', 'место', 'в', 'фильмах', 'песнях', 'и', 'анекдотах', '$', 'общественнность', 'позднего', 'ссср', 'восторженная', 'пришедшей', 'гласностью', 'была', 'заранее', 'готова', 'ко', 'всем', 'новостям', 'к', 'любой', 'негативной', 'трагической', 'шокирующей', 'информации', 'в', 'любом', 'объёме', '$', 'настолько', 'велика', 'была', 'сила', 'слова', 'печатного', 'и', 'произнесённого', 'на', 'фоне', 'многолетнего', 'голода', 'на', 'новости', 'и', 'на', 'образы', 'и', 'настолько', 'велика', 'была', 'вера', 'в', 'силу', 'слова', '$', 'народ', 'поверил', 'в', 'то', 'что', 'можно', 'победить', 'любые', 'страшные', 'теневые', 'глубоко', 'запрятанные', 'проблемы', 'если', 'вытащить', 'их', 'наружу', 'иначе', 'говоря', 'поменять', 'имевшийся', 'порядок', 'вещей', 'общество', 'почти', 'не', 'знает', 'о', 'наркомании', 'а', 'государство', 'стыдливо', 'молчит', 'продолжая', 'с', 'ней', 'невидимую', 'борьбу', 'силами', 'предназначенных', 'для', 'этого', 'структур', '$', 'но', 'зато', 'теперь', 'стыдливость', 'задавлена', 'и', 'почти', 'забыта', '$', 'вопрос', 'а', 'вы', 'пробовали', 'когда-нибудь', 'наркотики', 'со', 'странной', 'удивительной', 'лёгкостью', 'задают', 'иногда', 'журналисты', 'беседуя', 'с', 'известными', 'людьми', '$', 'и', 'нередко', 'знаменитые', 'люди', 'хорошие', 'авторитетные', 'заслуженные', 'глубоко', 'уважаемые', 'начинают', 'с', 'энтузиазмом', 'исповедоваться', 'почему-то', 'именно', 'по', 'данному', 'вопросу', 'с', 'готовностью', 'примерных', 'учеников', 'послушно', 'отвечают', 'да', '$', 'или', 'даже', 'так', 'да', '$', 'конечно', '$', 'иногда', 'уточняют', 'что', 'именно', 'пробовали', 'и', 'сколько', 'лет', 'назад', 'или', 'десятков', 'лет', 'назад', '$', 'словно', 'считают', 'эту', 'откровенность', 'неким', 'долгом', 'совершенно', 'не', 'задумываясь', 'о', 'чувстве', 'ответственности', 'перед', 'слушателями', 'и', 'читателями', 'в', 'первую', 'очередь', 'перед', 'молодыми', 'и', 'перед', 'детьми', '$', 'лучше', 'бы', 'соврали', 'ей-богу', '$', 'сказали', 'бы', 'нет', 'не', 'нюхал', 'не', 'глотал', 'не', 'кололся', '$', 'как', 'будто', 'употребление', 'наркотиков', 'некое', 'лёгкое', 'недомогание', 'с', 'которым', 'несложно', 'справиться', '$', 'а', 'ведь', 'дети', 'и', 'телевизор', 'смотрят', 'и', 'иногда', 'даже', 'читают', 'газеты', '$', 'а', 'в', 'средствах', 'массовой', 'информации', 'многочисленные', 'интервью', 'с', 'публичными', 'людьми', '$', 'и', 'наши', 'дети', 'хотят', 'слушать', 'и', 'уважать', 'тех', 'кого', 'уважаем', 'мы', 'взрослые', 'дети', 'нуждаются', 'в', 'авторитетных', 'людях', 'с', 'которых', 'могли', 'бы', 'брать', 'пример', 'хотя', 'вслух', 'об', 'этом', 'и', 'не', 'скажут', '$', 'периодически', 'звучат', 'предложения', 'раздавать', 'наркоманам', 'шприцы', 'дабы', 'защитить', 'их', 'от', 'вич', 'гепатита', 'в', 'и', 'с', 'и', 'других', 'инфекций', 'передаваемых', 'через', 'кровь', 'парентерально', 'в', 'рамках', 'программы', 'с', 'абсурдным', 'и', 'лживым', 'названием', 'программа', 'снижения', 'вреда', '$', 'идеология', 'программы', 'снижения', 'вреда', 'основана', 'на', 'признании', 'права', 'наркомана', 'употреблять', 'наркотики', 'права', 'выбора', '$', 'ведь', 'одни', 'наркоманы', 'хотят', 'вылечиться', 'но', 'другие-то', 'не', 'хотят', 'предлагается', 'исходить', 'из', 'этой', 'реальности', '$', 'дескать', 'пусть', 'употребляют', 'это', 'их', 'личное', 'дело', '$', 'и', 'если', 'человек', 'движется', 'к', 'гибели', 'от', 'наркомании', 'то', 'пусть', 'гибнет', 'именно', 'от', 'нее', 'а', 'не', 'от', 'каких-либо', 'других', 'факторов', '$', 'и', 'раздаются', 'призывы', 'исходить', 'из', 'реальности', 'созданной', 'наркобаронами', 'производителями', 'и', 'распространителями', 'наркотиков', 'и', 'наркоманами', 'следуя', 'за', 'цивилизованными', 'странами', '$', 'вместо', 'того', 'чтобы', 'создавать', 'реальность', 'в', 'частности', 'истреблять', 'наркобаронов', 'применяя', 'к', 'ним', 'смертную', 'казнь', 'единственную', 'адекватную', 'меру', '$', 'цель', 'раздачи', 'наркоманам', 'шприцов', 'как', 'утверждают', 'сторонники', 'этой', 'меры', 'препятствовать', 'распространению', 'инфекций', 'в', 'том', 'числе', 'и', 'за', 'пределы', 'круга', 'наркоманов', '$', 'но', 'при', 'этом', 'разрушающий', 'эффект', 'который', 'оказывают', 'на', 'здоровую', 'часть', 'общества', 'сами', 'наркоманы', 'и', 'их', 'субкультура', 'никуда', 'не', 'исчезает', '$', 'наркомания', 'феномен', 'сочетающий', 'в', 'себе', 'одну', 'из', 'форм', 'девиантного', 'поведения', 'то', 'есть', 'поведения', 'отклоняющегося', 'от', 'общепринятых', 'социальных', 'и', 'морально-нравственных', 'норм', 'и', 'тяжёлую', 'трудноизлечимую', 'болезнь', 'с', 'плохим', 'прогнозом', '$', 'и', 'не', 'нужно', 'противопоставлять', 'эти', 'два', 'компонента', 'как', 'это', 'делает', 'владимир', 'лукин', 'в', 'интервью', 'которое', 'напечатано', 'в', 'антинаркотической', 'газете', 'пока', 'не', 'поздно', '№', 'от', 'февраля', 'г', '$', '$', 'в', '$', 'лукин', 'признает', 'лишь', 'концепцию', 'о', 'наркомании', 'как', 'о', 'болезни', 'противопоставляя', 'этому', 'точку', 'зрения', 'о', 'наркомании', 'как', 'о', 'разновидности', 'девиантного', 'поведения', 'существующую', 'как', 'в', 'обществе', 'так', 'и', 'среди', 'многих', 'сотрудников', 'правоохранительных', 'и', 'иных', 'органов', 'власти', '$', 'в', 'определённые', 'моменты', 'наркоман', 'представляет', 'опасность', 'не', 'только', 'для', 'себя', 'самого', 'но', 'и', 'для', 'окружающих', '$', 'в', 'периоды', 'хорошего', 'самочувствия', 'и', 'отсутствия', 'признаков', 'болезни', 'наркоман', 'остаётся', 'наркоманом', '$', 'называя', 'свой', 'образ', 'жизни', 'нормальным', 'наркоман', 'выступает', 'пропагандистом', 'употребления', 'наркотиков', 'а', 'следовательно', 'преступником', '$', 'он', 'втягивает', 'в', 'свой', 'гибельный', 'образ', 'жизни', 'своих', 'родных', 'и', 'близких', 'а', 'также', 'детей', 'и', 'молодёжь', '$', 'совершенно', 'очевидно', 'что', 'психическая', 'зависимость', 'нисколько', 'не', 'лучше', 'чем', 'физическая', '$', 'не', 'нужно', 'напоминать', 'до', 'чего', 'может', 'доводить', 'людей', 'зависимость', 'игровая', 'не', 'имеющая', 'в', 'своей', 'основе', 'употребление', 'наркотиков', 'легких', 'или', 'тяжелых', 'и', 'обусловленную', 'ими', 'психическую', 'или', 'физическую', 'зависимость', '$', 'в', 'г', '$', 'проводилось', 'пробное', 'тестирование', 'школьников', 'на', 'наркотики', 'начиная', 'с', '-летнего', 'возраста', '$', 'эту', 'меру', 'планируется', 'сделать', 'регулярной', '$', 'вместо', 'того', 'чтобы', 'создавать', 'реальность', 'активно', 'бороться', 'с', 'распространением', 'и', 'употреблением', 'наркотиков', 'задавая', 'тон', 'и', 'ведя', 'за', 'собой', 'государство', 'предпочло', 'жеманное', 'и', 'капитулянтское', 'учитывание', 'реальности', 'фактически', 'уважительное', 'принятие', 'зла', 'которое', 'уверенно', 'занимает', 'пространство', 'вытесняя', 'активные', 'формы', 'борьбы', 'с', 'распространением', 'и', 'употреблением', 'наркотиков', '$', 'страна', 'подвергнутая', 'военному', 'нападению', 'обречена', 'на', 'уничтожение', 'если', 'будет', 'учитывать', 'реальность', '$', 'поставить', 'всех', 'школьников', 'под', 'подозрение', 'оказалось', 'проще', '$', 'борьба', 'с', 'наркоманией', 'пришла', 'к', 'своей', 'терминальной', 'завершающей', 'стадии', 'сузила', 'пространство', 'законсервировалась', 'и', 'забилась', 'в', 'угол', '$', 'тестирование', 'школьников', 'это', 'навсегда', 'его', 'будет', 'очень', 'трудно', 'отменить', '$', 'тема', 'наркотиков', 'станет', 'теперь', 'реальной', 'для', 'всех', 'без', 'исключения', 'в', 'том', 'числе', 'и', 'для', 'тех', 'кто', 'к', 'наркотикам', 'не', 'испытывал', 'интереса', '$', 'если', 'государство', 'планирует', 'продолжать', 'тестирование', 'школьников', 'на', 'наркотики', 'то', 'это', 'означает', 'что', 'государство', 'в', 'условиях', 'избранных', 'им', 'методов', 'борьбы', 'с', 'наркотической', 'заразой', 'прогнозирует', 'именно', 'такой', 'уровень', 'употребления', 'наркотиков', 'среди', 'школьников', 'который', 'требует', 'проведения', 'подобного', 'тестирования', '$', 'тестирование', 'окажется', 'тем', 'самым', 'вниманием', 'государства', 'наконец-то', 'обращенным', 'к', 'своим', 'юным', 'гражданам', 'в', 'том', 'числе', 'к', 'детям', 'из', 'провинции', 'которым', 'нечем', 'заняться', 'после', 'школы', 'и', 'некуда', 'пойти', '$', 'ребенку', 'нечем', 'заполнить', 'свою', 'жизнь', 'государство', 'о', 'нём', 'вспомнило', 'и', 'вот', 'теперь', 'он', 'под', 'подозрением', '$', 'кто-то', 'из', 'высоких', 'чиновников', 'испытывает', 'сильно', 'преувеличенное', 'чувство', 'выполненного', 'долга', 'одновременно', 'под', 'видом', 'борьбы', 'с', 'коррупцией', 'школьные', 'экзамены', 'заменены', 'их', 'имитацией', 'в', 'виде', 'егэ', 'принят', 'новый', 'образовательный', 'стандарт', 'ограничивающий', 'число', 'обязательных', 'школьных', 'предметов', '$', 'детям', 'навязывается', 'право', 'выбора', 'на', 'который', 'якобы', 'способны', 'все', 'школьники', 'без', 'исключения', '$', 'автономное', 'существование', 'учреждений', 'образования', 'и', 'здравоохранения', 'вопреки', 'обещанным', 'возможностям', 'обернулось', 'вопросом', 'который', 'вышестоящие', 'инстанции', 'задают', 'директорам', 'школ', 'и', 'главным', 'врачам', 'вопросом', 'который', 'еще', 'недавно', 'не', 'приснился', 'бы', 'ни', 'в', 'каком', 'наркотическом', 'бреду', 'сколько', 'ваша', 'школа', 'поликлиника', 'больница', 'заработала', 'с', 'другой', 'стороны', 'возможно', 'что', 'действительно', 'такова', 'эта', 'самая', 'нынешняя', 'реальность', 'которую', 'приходится', 'учитывать', 'и', 'тестирование', 'на', 'наркотики', 'вынужденная', 'мера', 'печальная', 'необходимость', '$', 'но', 'тогда', 'сверхзадача', 'дожить', 'до', 'такого', 'времени', 'когда', 'необходимость', 'подобного', 'тестирования', 'отпадет', 'и', 'место', 'в', 'жизни', 'детей', 'и', 'молодежи', 'занятое', 'наркотиками', 'будет', 'закономерно', 'вытеснено', '$', 'в', 'мире', 'есть', 'примеры', 'стран', 'где', 'задача', 'искоренения', 'наркомании', 'ставится', 'и', 'выполняется', 'китай', 'ирак', 'пакистан', 'объединённые', 'арабские', 'эмираты', 'сингапур', '$', 'в', 'современной', 'россии', 'в', 'условиях', 'затхлой', 'идеологии', 'прав', 'человека', 'которой', 'нет', 'никакого', 'дела', 'до', 'доступности', 'образования', 'и', 'детского', 'досуга', 'и', 'которая', 'предполагает', 'с', 'одной', 'стороны', 'право', 'несознательных', 'граждан', 'вступать', 'на', 'гибельный', 'путь', 'употребления', 'наркотиков', 'с', 'автоматической', 'потерей', 'дееспособности', 'и', 'в', 'дальнейшем', 'человеческого', 'облика', 'и', 'с', 'другой', 'стороны', 'право', 'наркодилеров', 'вести', 'свой', 'бизнес', 'неожиданно', 'обозначился', 'просвет', '$', 'в', 'начале', 'октября', 'г', '$', 'госнаркоконтроль', 'выступил', 'с', 'инициативой', 'о', 'принудительном', 'лечении', 'наркоманов', 'альтернативой', 'которому', 'станет', 'уголовное', 'преследование', 'с', 'тюремным', 'сроком', '$', 'как', 'заявил', 'начальник', 'следственного', 'департамента', 'госнаркоконтроля', 'сергей', 'яковлев', 'октября', 'г', '$', 'ответственность', 'за', 'систематическое', 'употребление', 'наркотиков', 'нужно', 'рассматривать', 'как', 'дополнительный', 'правовой', 'механизм', 'который', 'будет', 'способствовать', 'отказу', 'от', 'употребления', 'наркотиков', '$', 'специалисты', 'подготовили', 'два', 'предложения', '$', 'первое', 'предложение', 'подразумевает', 'возбуждение', 'уголовного', 'дела', 'против', 'тех', 'кто', 'два', 'и', 'более', 'раз', 'попадался', 'на', 'употреблении', 'наркотиков', 'и', 'был', 'фигурантом', 'административного', 'дела', '$', 'согласно', 'второму', 'предложению', 'на', 'скамье', 'подсудимых', 'окажутся', 'люди', 'освобождённые', 'судом', 'от', 'административного', 'наказания', 'которые', 'продолжают', 'употреблять', 'наркотики', 'и', 'не', 'проходят', 'лечения', '$', 'поправки', 'пока', 'разрабатываются', 'но', 'возможно', 'оба', 'варианта', 'войдут', 'в', 'законопрект', 'который', 'мы', 'отправим', 'на', 'рассмотрение', 'в', 'правительство', 'цитирует', 'газета', 'известия', 'с', '$', 'яковлева', 'в', 'номере', 'от', 'октября', 'г', '$', 'с', 'инициативой', 'предоставить', 'наркоманам', 'выбор', 'идти', 'за', 'нетяжкие', 'преступления', 'в', 'тюрьму', 'или', 'лечиться', 'выступил', 'глава', 'федеральной', 'службы', 'по', 'контролю', 'за', 'оборотом', 'наркотиков', 'виктор', 'иванов', '$', 'наконец-то', 'я', 'обеими', 'руками', 'за', '$', 'суровость', 'уголовного', 'наказания', 'наркоманов', 'отказывающихся', 'лечиться', 'совершенно', 'адекватна', 'пагубности', 'наркотиков', 'и', 'опасности', 'наркоманов', 'для', 'общества', '$', 'наконец-то', 'вспомнили', 'о', 'том', 'что', 'употребление', 'наркотиков', 'само', 'по', 'себе', 'преступление', '$', 'в', 'кои-то', 'веки', 'у', 'наших', 'компетентных', 'органов', 'в', 'деле', 'решения', 'проблемы', 'наркомании', 'появились', 'признаки', 'жизни', '$', 'значит', 'не', 'всё', 'потеряно', 'сейчас', 'проблема', 'чем', 'заполнить', 'пустоту', 'оставшуюся', 'после', 'массового', 'закрытия', 'домов', 'пионеров', 'с', 'бесплатными', 'или', 'дешевыми', 'кружками', 'для', 'детей', 'и', 'молодежи', '$', 'обратный', 'процесс', 'жизненно', 'необходим', 'и', 'он', 'требует', 'от', 'государства', 'сильного', 'желания', 'и', 'огромных', 'усилий', 'не', 'только', 'материальных', 'но', 'и', 'идеологических', '$', 'мотивировать', 'полузабытую', 'молодежь', 'задача', 'нелегкая', 'и', 'не', 'всегда', 'благодарная', '$', 'но', 'не', 'этим', 'же', 'заполнять', 'не', 'наркотиками', 'же', '$', '$', 'а', 'разрешение', 'наркотиков', 'безусловно', 'эту', 'пустоту', 'заполнит', 'место', 'групп', 'продлённого', 'дня', 'кружков', 'спортивных', 'и', 'художественных', 'школ', 'займет', 'упомянутый', 'добрый', 'расслабляющий', 'философский', 'кайф', '$', 'подросткам', 'будет', 'чем', 'заняться', 'ясно', 'что', 'наркотики', 'разрешённые', 'для', 'взрослых', 'станут', 'доступнее', 'и', 'школьникам', '$', 'еще', 'раздаются', 'голоса', 'что', 'разрешать', 'надо', 'но', 'только', 'не', 'в', 'нашей', 'стране', 'потому', 'что', 'мы', 'не', 'готовы', 'не', 'прошли', 'некий', 'путь', '$', 'конечно', 'не', 'прошли', 'и', 'не', 'пройдем', 'этот', 'идиотский', 'путь', 'разумеется', 'не', 'готовы', 'и', 'не', 'будем', 'готовы', 'продюсер', 'и', 'психолог', 'илья', 'островский', 'газета', '„', 'пока', 'не', 'поздно', '“', '№', 'г', '$', 'говорит', 'о', 'том', 'что', 'наркотики', 'как', 'и', 'любые', 'другие', 'виды', 'зависимости', '„', 'противник', 'с', 'которым', 'бороться', 'бесполезно', '$', 'единственный', 'вариант', 'спасения', 'просто', 'никогда', 'не', 'открывать', 'эту', 'дверь', '$', '“', 'ненасытный', 'пенсионный', 'фонд', 'сборы', 'в', 'пенсионный', 'фонд', 'постоянно', 'повышаются', '$', 'первой', 'ласточкой', 'была', 'отмена', 'единого', 'социального', 'налога', 'и', 'замена', 'его', 'страховыми', 'взносами', '$', 'сами', 'же', 'страховые', 'взносы', 'выросли', 'с', 'до', '$', 'но', 'и', 'впоследствии', 'когда', 'они', 'были', 'снижены', 'до', 'сбор', 'взносов', 'в', 'госказну', 'или', 'вернее', 'в', 'казну', 'фонда', 'увеличился', '$', 'рост', 'достигается', 'засчет', 'роста', 'предельной', 'суммы', 'с', 'которой', 'страховые', 'взносы', 'не', 'уплачиваются', '$', 'таблица', 'рост', 'размера', 'уплачиваемых', 'страховых', 'взносов', 'размер', 'заработной', 'платы', 'год', 'год', 'год', 'год', 'ставка', 'в', 'пределах', 'предельной', 'величины', 'рублей', 'ставка', 'в', 'пределах', 'величины', 'рублей', 'в', 'год', 'свыше', 'предельной', 'суммы', 'ставка', 'до', 'рублей', 'в', 'год', 'свыше', 'предельной', 'суммы', 'ставка', 'до', 'рублей', 'свыше', 'предельной', 'суммы', 'рублей', 'рублей', 'в', 'год', 'рублей', 'рублей', 'в', 'год', 'рублей', 'рублей', 'в', 'год', 'рублей', 'рублей', 'в', 'год', 'кроме', 'того', 'в', 'году', 'значительно', 'выросли', 'страховые', 'взносы', 'для', 'предпринимателей', '$', 'индивидуальный', 'же', 'предприниматель', 'в', 'году', 'уплачивает', 'рублей', '$', 'при', 'этом', 'размер', 'платежа', 'на', 'обязательное', 'пенсионное', 'страхование', 'составляет', 'руб', '$', 'на', 'обязательное', 'медицинское', 'страхование', 'руб', '$', 'если', 'рассматривать', 'повышение', 'страховых', 'взносов', 'в', 'пфр', 'в', 'динамике', 'то', 'можно', 'увидеть', 'что', 'увеличение', 'произошло', 'в', 'разы', '$', 'еще', 'несколько', 'лет', 'назад', 'предприниматель', 'платил', 'тыс', '$', 'руб', '$', 'в', 'год', 'а', 'теперь', 'планка', 'возросла', 'до', 'тыс', '$', 'руб', '$', 'конечно', 'с', 'года', 'размер', 'взносов', 'будет', 'снижен', 'но', 'как', 'говорится', 'ложки', 'нашлись', 'а', 'осадок', 'остался', '$', 'дело', 'в', 'том', 'что', 'за', 'год', 'размер', 'взносов', 'так', 'и', 'не', 'будет', 'снижен', '$', 'с', 'года', 'также', 'введены', 'повышенные', 'страховые', 'взносы', '$', 'такие', 'взносы', 'будут', 'действовать', 'для', 'вредных', 'производств', '$', 'дополнительные', 'тарифы', 'страховых', 'взносов', 'как', 'так', 'и', 'отнесены', 'к', 'солидарной', 'части', 'тарифа', 'страховых', 'взносов', 'п', '$', 'п', '$', 'и', 'ст', '$', '$', 'федерального', 'закона', 'от', '$', '$', 'n', '-фз', 'об', 'обязательном', 'пенсионном', 'страховании', 'в', 'российской', 'федерации', '$', 'исчисленные', 'по', 'ним', 'страховые', 'взносы', 'направляются', 'на', 'финансирование', 'страховой', 'части', 'трудовой', 'пенсии', 'и', 'попадают', 'в', 'ее', 'солидарную', 'часть', '$', 'напомним', 'что', 'к', 'льготным', 'категориям', 'относятся', 'мужчины', 'по', 'достижении', 'возраста', 'лет', 'женщины', 'по', 'достижении', 'возраста', 'лет', 'если', 'они', 'проработали', 'соответственно', 'не', 'менее', 'лет', 'и', 'лет', 'месяцев', 'на', 'подземных', 'работах', 'на', 'работах', 'с', 'вредными', 'условиями', 'труда', 'и', 'в', 'горячих', 'цехах', 'и', 'имеют', 'страховой', 'стаж', 'соответственно', 'не', 'менее', 'и', 'лет', '$', 'готов', 'ли', 'владимир', 'путин', 'отобрать', 'экономику', 'россии', 'у', 'либералов', 'мвф', 'рулит', 'как', 'говорят', 'сегодня', 'персонажи', 'детских', 'мультфильмов', '$', 'в', 'момент', 'когда', 'россия', 'вынуждена', 'была', 'отказаться', 'от', 'плановой', 'экономики', 'перейдя', 'к', 'рынку', 'она', 'поставила', 'себя', 'в', 'зависимость', 'от', 'западных', 'институтов', 'став', 'в', 'ряд', 'стран', 'зависимых', 'от', 'рыночной', 'либеральной', 'модели', 'построенной', 'олигархическими', 'транснациональными', 'группами', 'за', 'последние', 'сто', 'лет', '$', 'страны', 'включенные', 'в', 'систему', 'либеральных', 'рыночных', 'отношений', 'обязаны', 'играть', 'по', 'правилам', 'создателей', 'этой', 'системы', 'так', 'примерно', 'звучит', 'требование', 'к', 'россии', 'выдвигаемые', 'западом', '$', 'это', 'и', 'понятно', '$', 'советская', 'плановая', 'экономика', 'в', 'большей', 'части', 'противостояла', 'рыночной', 'западной', 'экономики', 'и', 'мешала', 'той', 'раздвигать', 'границы', 'своего', 'влияния', '$', 'сейчас', 'российская', 'экономика', 'стала', 'полностью', 'соответствовать', 'либеральной', 'западной', 'модели', 'и', 'встроена', 'в', 'нее', 'своим', 'сырьевым', 'сектором', '$', 'в', 'чем', 'причина', 'конфликтов', 'наверно', 'это', 'стремление', 'некоторых', 'транснациональных', 'группировок', 'поделить', 'российский', 'пирог', '$', 'в', 'тоже', 'время', 'это', 'и', 'политические', 'трения', 'внутри', 'транснациональных', 'группировок', '$', 'это', 'и', 'жесткая', 'конкуренция', 'между', 'группировками', 'внутри', 'самой', 'россии', '$', 'наверно', 'есть', 'и', 'другие', 'сложные', 'механизмы', 'раскручивающие', 'российскую', 'политику', 'экономику', 'и', 'кризисные', 'явления', 'вокруг', 'россии', '$', 'что', 'же', 'это', 'сулит', 'россии', 'российскому', 'народу', 'и', 'можно', 'ли', 'повернуть', 'этот', 'механизм', 'в', 'сторону', 'полезного', 'для', 'россии', 'эффекта', 'российский', 'народ', 'должен', 'жить', 'достаточно', 'богато', 'он', 'должен', 'чувствовать', 'себя', 'достойно', 'среди', 'народов', 'мира', '$', 'россияне', 'должны', 'быть', 'уверенны', 'в', 'политической', 'и', 'экономической', 'стабильности', 'защищены', 'от', 'внешних', 'военных', 'и', 'прочих', 'угроз', '$', 'россияне', 'должны', 'гордиться', 'своей', 'жизнью', 'а', 'это', 'значит', 'быть', 'довольны', 'материально', 'духовно', 'и', 'т', '$', 'д', '$', 'это', 'значит', 'и', 'то', 'что', 'россияне', 'должны', 'гордиться', 'своей', 'историей', 'своими', 'предками', 'своей', 'культурой', 'своей', 'национальной', 'идеей', 'определяющей', 'понимание', 'каждого', 'человека', 'роли', 'россии', 'в', 'мировом', 'устройстве', '$', 'много', 'что', 'должно', 'быть', 'обеспеченно', 'государством', 'государственной', 'властью', 'государственными', 'институтами', 'своему', 'народу', '$', 'однако', 'это', 'все', 'еще', 'впереди', 'как', 'сказал', 'президент', 'в', '$', 'в', '$', 'путин', 'в', 'своем', 'выступлении', 'в', 'день', 'великой', 'победы', '$', 'большинство', 'людей', 'ему', 'поверили', 'некоторые', 'нет', '$', 'история', 'в', 'будущем', 'покажет', 'что', 'смог', 'и', 'что', 'не', 'смог', 'сделать', 'путин', '$', 'что', 'он', 'должен', 'сделать', 'это', 'более', 'сложный', 'вопрос', '$', 'если', 'мы', 'согласны', 'с', 'тем', 'движением', 'россии', 'которое', 'задали', 'либералы', '-х', 'годов', 'то', 'следует', 'отказаться', 'от', 'борьбы', 'и', 'противостояния', 'с', 'западом', 'прекратить', 'попытки', 'создания', 'русского', 'мира', 'прекратить', 'попытки', 'развития', 'собственной', 'не', 'сырьевой', 'экономики', 'согласится', 'на', 'те', 'советы', 'и', 'предложения', 'которые', 'периодически', 'дают', 'нам', 'западные', 'институты', 'и', 'уже', 'до', 'конца', 'и', 'полностью', 'встроится', 'в', 'западную', 'экономику', 'на', 'правах', 'сырьевой', 'ее', 'части', '$', 'тогда', 'надо', 'отказаться', 'и', 'от', 'независимых', 'политических', 'решений', '$', 'еще', 'лучше', 'попросить', 'запад', 'выбрать', 'нам', 'нового', 'более', 'подходящего', 'западу', 'президента', '$', 'что', 'получит', 'россия', 'наверно', 'ничего', 'особо', 'страшного', 'сразу', 'и', 'не', 'произойдет', '$', 'где-то', 'какая-то', 'территория', 'выйдет', 'из', 'состава', 'россии', '$', 'где-то', 'будет', 'небольшая', 'локальная', 'война', 'где-то', 'маленький', 'геноцид', '$', 'где-то', 'люди', 'станут', 'жить', 'еще', 'немного', 'беднее', '$', 'в', 'общем', 'так', 'живут', 'многие', 'страны', 'третьего', 'мира', '$', 'другой', 'сценарий', 'по', 'которому', 'похоже', 'пошел', 'путин', 'предполагает', 'отказ', 'от', 'безусловной', 'передачи', 'наших', 'ресурсов', 'западным', 'друзьям', 'отказ', 'от', 'передачи', 'ядерного', 'чемодана', 'в', 'нато', '$', 'свои', 'ресурсы', 'наши', 'олигархи', 'хотят', 'делить', 'самостоятельно', '$', 'плохо', 'для', 'страны', 'иметь', 'олигархов', 'это', 'вопрос', 'другой', '$', 'сразу', 'скажу', 'плохо', '$', 'плохо', 'если', 'эти', 'группировки', 'забирают', 'весь', 'доход', 'от', 'использования', 'народных', 'ресурсов', 'если', 'разворовывают', 'народные', 'богатства', 'если', 'подменяют', 'собой', 'государство', '$', 'противостояние', 'этому', 'называется', 'классовая', 'борьба', '$', 'но', 'классовая', 'борьба', 'сегодня', 'в', 'россии', 'практически', 'невозможна', '$', 'пока', 'невозможна', '$', 'зато', 'возможна', 'и', 'нужна', 'патриотическая', 'борьба', 'за', 'независимость', 'россии', '$', 'и', 'эта', 'борьба', 'должна', 'быть', 'эффективной', '$', 'президент', 'россии', 'в', '$', 'в', '$', 'путин', 'в', 'ситуации', 'серьезной', 'угрозы', 'интересам', 'независимости', 'территориальной', 'целостности', 'россии', 'показал', 'себя', 'как', 'умелый', 'политик', 'и', 'настоящий', 'патриот', '$', 'это', 'великие', 'его', 'заслуги', '$', 'мы', 'поддерживаем', 'президента', 'россии', 'в', 'его', 'делах', 'в', 'его', 'борьбе', 'за', 'россию', '$', 'путин', 'сделал', 'первый', 'шаг', 'в', 'сторону', 'создания', 'сплоченного', 'патриотического', 'державного', 'государства', 'надо', 'идти', 'дальше', '$', 'следующий', 'шаг', 'должен', 'стать', 'шагом', 'обновления', 'своей', 'команды', 'людей', 'помогающих', 'президенту', 'осуществлять', 'политику', 'государства', '$', 'и', 'важным', 'этапом', 'должно', 'стать', 'привлечение', 'патриотически-настроенных', 'специалистов', 'во', 'власть', '$', 'пора', 'отобрать', 'экономику', 'россии', 'у', 'либералов', 'которые', 'тащат', 'ее', 'в', 'другом', 'направлении', 'чем', 'решил', 'вести', 'ее', 'президент', 'путин', '$', 'дороги', 'можно', 'построить', 'а', 'вот', 'как', 'быть', 'с', 'другой', 'бедой', 'говорят', 'в', 'россии', 'две', 'беды', 'дураки', 'и', 'дороги', '$', 'к', 'сожалению', 'жизнь', 'заставляет', 'нас', 'в', 'этом', 'убеждаться', 'едва', 'ли', 'не', 'ежедневно', '$', 'в', 'советске', 'кировской', 'области', 'департамент', 'здравоохранения', 'решил', 'открыть', 'сосудистый', 'центр', 'при', 'центральной', 'районной', 'больнице', 'црб', '$', 'никто', 'не', 'отрицает', 'что', 'решение', 'здравое', 'и', 'нужное', 'учитывая', 'каков', 'процент', 'умирающих', 'от', 'заболеваний', 'сердечно-сосудистой', 'системы', '$', 'главный', 'врач', 'црб', 'пермяков', 'г', '$', 'а', '$', 'о', 'таком', 'решении', 'был', 'уведомлен', 'заранее', 'а', 'следовательно', 'должен', 'был', 'принять', 'все', 'меры', 'чтобы', 'открытие', 'центра', 'не', 'сопровождалось', 'излишним', 'количеством', 'проблем', '$', 'ан', 'нет', '$', 'судя', 'по', 'решениям', 'принимаем', 'главврачом', 'он', 'решил', 'пойти', 'по', 'обратному', 'пути', 'вместо', 'минимизации', 'проблем', 'к', 'их', 'максимизации', '$', 'было', 'в', 'црб', 'отделение', 'кардиологии', 'оборудованное', 'оснащенное', 'всем', 'необходимым', 'в', 'том', 'числе', 'и', 'квалифицированным', 'медицинским', 'персоналом', '$', 'в', 'общем', 'была', 'реальная', 'площадка', 'для', 'организации', 'сосудистого', 'центра', '$', 'но', 'вот', 'летом', 'в', 'порыве', 'оптимизации', 'исходя', 'из', 'указаний', 'областного', 'депздрава', 'глава', 'д', '$', 'а', '$', 'матвеев', 'сообщник', 'м', '$', 'гайдар', 'о', 'приведении', 'в', 'соответствие', 'количества', 'койкомест', 'количеству', 'жителей', 'оно', 'было', 'закрыто', 'а', 'его', 'персонал', 'сокращен', '$', 'в', 'конце', 'года', 'депздрав', 'принимает', 'официальное', 'решение', 'об', 'открытии', 'центра', 'в', 'марте', 'текущего', 'года', 'но', 'выясняется', 'что', 'помимо', 'денег', 'на', 'ремонт', 'соответствующих', 'помещений', 'найти', 'их', 'должны', 'были', 'муниципальные', 'власти', 'требуется', 'еще', 'и', 'медперсонал', 'а', 'его-то', 'как', 'раз', 'и', 'нет', 'разогнали', 'людей', 'люди', 'устроились', 'на', 'другую', 'работу', 'и', 'возвращаться', 'на', 'зарплату', 'в', 'р', '$', 'уже', 'не', 'хотят', '$', 'в', 'результате', 'открытие', 'высокотехнологичного', 'медицинского', 'подразделения', 'оказалось', 'на', 'грани', 'срыва', '$', 'вы', 'думаете', 'это', 'ситуация', 'чему-то', 'научила', 'главврача', 'как', 'говорил', 'один', 'мультяшный', 'персонаж', 'не', 'смешите', 'мои', 'копыта', '$', 'в', 'конце', 'г', '$', 'он', 'подписал', 'приказ', 'о', 'сокращении', 'еще', 'койкомест', 'в', 'результате', 'детское', 'отделение', 'отделение', 'педиатрии', 'например', 'сокращено', 'вдвое', '$', 'видимо', 'так', 'понимает', 'г-н', 'пермяков', 'демографическую', 'политику', 'правительства', '$', 'впрочем', 'чего', 'еще', 'ждать', 'от', 'члена', 'правящей', 'партии', 'которая', 'называет', 'себя', 'партией', 'реальных', 'дел', '$', 'в', 'данном', 'конкретном', 'случае', 'мы', 'видим', 'каковы', 'их', 'реальные', 'дела', '$', 'а', 'под', 'завязочку', 'последний', 'анекдот', '$', 'г-н', 'пермяков', 'на', 'мартовских', 'выборах-', 'баллотируется', 'в', 'депутаты', 'районной', 'думы', 'по', 'списку', 'единой', 'россии', 'и', 'учитывая', 'честность', 'всех', 'предшествующих', 'выборов', 'станет', 'им', '$', 'что', 'ж', 'видимо', 'две', 'российские', 'беды', 'неискоренимы', '$', 'пресс-конференция', 'юрия', 'шевчука', 'сегодня', 'прошла', 'пресс-конефенция', 'юрия', 'юлианыча', 'посвященная', 'новой', 'программе', 'иначе', 'обещают', 'большой', 'новый', 'альбом', 'порядка', 'песен', 'типа', 'черного', 'пса', 'не', 'менее', 'концертов', 'и', 'концептуальный', 'фильм-видеоряд', 'ждемс', 'первый', 'концерт', 'намечается', 'на', 'ноября', 'юрий', 'шевчук', 'и', 'группа', 'ддт', 'представляют', 'совершенно', 'новую', 'программу', 'и', 'новый', 'альбом', 'под', 'названием', 'иначе', '$', 'диск', 'выйдет', 'в', 'сентябре', 'а', 'программа', 'начнет', 'свое', 'продвижение', 'по', 'стране', 'с', 'октября', 'года', '$', 'в', 'москве', 'премьрасостоится', 'ноября', 'в', 'ск', 'олимпийский', 'в', 'петербурге', 'ноября', 'в', 'скк', '$', 'в', 'новый', 'альбом', 'войдут', 'самые', 'актуальные', 'из', 'песен', 'над', 'которыми', 'сейчас', 'работает', 'группа', '$', 'в', 'целом', 'программа', 'и', 'альбом', 'будет', 'состоять', 'из', 'песен', 'на', 'которых', 'держится', 'сюжет', 'концепт', 'и', 'идеология', 'новой', 'работы', '$', 'своей', 'концертной', 'программой', 'ддт', 'пытается', 'донести', 'до', 'слушателей', 'иной', 'способ', 'бытия', 'в', 'существующем', 'времени', 'и', 'пространстве', 'в', 'отличие', 'от', 'навязанного', 'нам', 'унылого', 'и', 'раболепного', 'общества', 'потребления', '$', 'гамлет', 'задавал', 'вопрос', '$', 'в', 'новой', 'работе', 'ддт', 'развивает', 'вечный', 'вопрос', 'дальше', '$', 'подробно', 'объяснять', 'философскую', 'концепцию', 'альбома', 'в', 'пресс-релизе', 'не', 'имеет', 'смысла', '$', 'ддт', 'предлагает', 'поразмышлять', 'над', 'этим', 'вместе', '$', 'отличительной', 'чертой', 'этой', 'программы', 'является', 'концептуальный', 'видеоряд', 'звук', 'и', 'свет', 'разрабатываемый', 'ведущими', 'специалистами', 'в', 'этой', 'области', '$', 'в', 'связи', 'с', 'новой', 'программой', 'ддт', 'обновляет', 'стиль', 'группы', '$', 'в', 'пресс-конференции', 'участвуют', 'юрий', 'шевчук', 'и', 'организаторы', 'тура', '$', 'оригинал', 'власти', 'сирии', 'ударили', 'по', 'боевикам', 'игил', 'из', 'солнцепеков', 'и', 'градов', 'москва', 'октября', 'аиф-москва', '$', 'хочешь', 'мира', 'придётся', 'повоевать', 'эксперты', 'о', 'ходе', 'операции', 'в', 'сирии', 'сирийские', 'военные', 'обнародовали', 'видеоролик', 'на', 'котором', 'запечатлены', 'результаты', 'удара', 'тос-а', 'солнцепек', 'по', 'позициям', 'боевиков', 'исламского', 'государства', '$', 'кроме', 'тяжелых', 'самоходных', 'огнеметов', 'против', 'террористов', 'были', 'произведены', 'залпы', 'из', 'рсзо', 'град', '$', 'сообщается', 'что', 'оружие', 'было', 'испытано', 'в', 'провинции', 'латакия', '$', 'по', 'мнению', 'экспертов', 'установки', 'солнцепек', 'наиболее', 'эффективны', 'именно', 'в', 'горной', 'местности', 'взрывные', 'волны', 'термобарических', 'снарядов', 'перекрывают', 'и', 'усиливают', 'друг', 'друга', '$', 'солнцепек', 'является', 'одним', 'из', 'наиболее', 'эффективных', 'видов', 'оружия', 'в', 'своем', 'классе', '$', 'температура', 'в', 'эпицентре', 'взрыва', 'повышается', 'до', 'тысячи', 'градусов', 'выжигая', 'все', 'живое', '$', 'выжившие', 'при', 'взрыве', 'погибают', 'от', 'разрывов', 'внутренних', 'органов', '$', 'напомним', 'тос-а', 'солнцепек', 'модернизированная', 'версия', 'тос-', 'буратино', 'которые', 'применялись', 'в', 'афганской', 'войне', '$', 'обе', 'установки', 'весьма', 'популярны', 'на', 'ближнем', 'востоке', 'и', 'состоят', 'на', 'вооружении', 'ряда', 'стран', '$', 'напомним', 'группировка', 'исламское', 'государство', 'признана', 'террористической', 'в', 'большинстве', 'стран', 'мира', 'в', 'том', 'числе', 'и', 'в', 'россии', '$', 'ее', 'деятельность', 'на', 'территории', 'страны', 'запрещена', '$', 'доживем', 'ли', 'мы', 'до', 'конца', 'пенсионной', 'реформы', 'пенсионная', 'реформа', 'в', 'россии', 'напоминает', 'так', 'басню', 'крылова', '$', 'все', 'дело', 'в', 'том', 'что', 'пенсионная', 'реформа', 'длится', 'уже', 'много', 'лет', '$', 'так', 'в', 'разное', 'время', 'пенсионные', 'накопления', 'были', 'разделены', 'на', 'страховую', 'и', 'накопительную', 'часть', 'федеральный', 'закон', 'от', 'декабря', 'г', '$', 'n', '-фз', 'о', 'трудовых', 'пенсиях', 'в', 'российской', 'федерации', 'статья', 'п', '$', 'менялся', 'порядок', 'администрирования', 'пенсионных', 'накоплений', 'часть', 'накоплений', 'с', 'целью', 'увеличения', 'пенсии', 'по', 'желанию', 'граждан', 'передавалась', 'в', 'негосударственные', 'пенсионные', 'фонды', 'изменялась', 'формула', 'подсчета', 'стажа', '$', 'с', 'года', 'единый', 'социальный', 'налог', 'был', 'заменен', 'страховыми', 'взносами', 'постоянно', 'меняются', 'ставки', 'взносов', 'и', 'категории', 'льготников', 'а', 'также', 'работников', 'за', 'которых', 'работодатель', 'уплачивает', 'взносы', 'в', 'повышенном', 'размере', '$', 'вместе', 'с', 'тем', 'как', 'говорится', 'воз', 'и', 'ныне', 'там', '$', 'пенсионный', 'фонд', 'испытывает', 'дефицит', 'пенсии', 'в', 'россии', 'растут', 'незначительно', 'и', 'несравнимо', 'меньше', 'пенсий', 'в', 'развитых', 'странах', '$', 'этот', 'год', 'также', 'не', 'обошелся', 'без', 'пенсионной', 'реформы', 'с', 'начала', 'года', 'значительно', 'выросли', 'страховые', 'взносы', 'для', 'индивидуальных', 'предпринимателей', 'до', 'рублей', 'также', 'было', 'принято', 'решение', 'о', 'перераспределении', 'страховой', 'и', 'накопительной', 'части', 'пенсии', '$', 'на', 'накопительную', 'часть', 'пенсии', 'нужно', 'будет', 'отчислять', 'всего', 'от', 'фонда', 'оплаты', 'труда', 'вместо', 'нынешних', '$', 'соответственно', 'из', 'накопительного', 'тарифа', 'перераспределены', 'в', 'страховой', 'для', 'лиц', 'моложе', 'г', '$', 'р', '$', '$', 'однако', 'принимаемые', 'поправки', 'пересматриваются', 'с', 'той', 'же', 'скоростью', 'что', 'и', 'принимаются', '$', 'например', 'страховые', 'взносы', 'которые', 'выросли', 'для', 'предпринимателей', 'в', 'году', 'впоследствии', 'были', 'пересмотрены', 'но', 'как', 'говорится', 'осадок', 'остался', '$', 'и', 'вот', 'недавно', 'глава', 'минтруда', 'максим', 'топилин', 'заявил', 'что', 'правительство', 'одобрило', 'пакет', 'законопроектов', 'по', 'пенсионной', 'реформе', '$', 'в', 'пакет', 'по', 'сообщениям', 'агентств', 'вошли', 'законопроект', 'о', 'страховых', 'пенсиях', 'о', 'накопительной', 'пенсии', 'и', 'о', 'внесении', 'изменений', 'в', 'отдельные', 'законодательные', 'акты', 'в', 'связи', 'с', 'принятием', 'первых', 'двух', 'документов', '$', 'начиная', 'с', 'года', 'размер', 'пенсии', 'для', 'каждого', 'пенсионера', 'будет', 'исчисляться', 'как', 'сумма', 'баллов', '$', 'при', 'этом', 'стоимость', 'самого', 'балла', 'в', 'денежном', 'эквиваленте', 'ежегодно', 'будет', 'рассчитывать', 'правительство', '$', 'согласно', 'изменениям', 'нужно', 'достичь', 'пенсионного', 'возраста', 'лет', 'для', 'женщин', 'лет', 'для', 'мужчин', 'отработать', 'лет', 'сейчас', 'лет', 'набрать', 'минимальное', 'количество', 'баллов', 'что', 'эквивалентно', 'годам', 'стажа', 'при', 'выплате', 'взносов', 'с', 'мрот', 'или', 'годам', 'стажа', 'при', 'выплате', 'взносов', 'с', 'мрот', '$', 'при', 'этом', 'не', 'предполагается', 'снижение', 'самих', 'страховых', 'взносов', '$', 'к', 'нормативному', 'базовому', 'размеру', 'сегодня', 'это', 'руб', '$', 'будет', 'применяться', 'повышающий', 'коэффициент', 'если', 'вы', 'выйдете', 'на', 'пенсию', 'позже', '$', 'данная', 'часть', 'пенсии', 'будет', 'ежегодно', 'индексироваться', '$', 'таким', 'образом', 'предполагается', 'что', 'работающие', 'граждане', 'будут', 'выходить', 'на', 'пенсию', 'как', 'можно', 'позже', '$', 'вместе', 'с', 'тем', 'эксперты', 'считают', 'что', 'страховые', 'взносы', 'можно', 'не', 'только', 'вернуть', 'на', 'прежние', 'но', 'и', 'снизить', 'до', '$', 'причем', 'пенсионный', 'фонд', 'от', 'такой', 'реформы', 'только', 'выиграет', '$', 'все', 'дело', 'в', 'том', 'что', 'в', 'случае', 'снижения', 'страховых', 'взносов', 'многие', 'компании', 'выйдут', 'из', 'тени', 'и', 'будут', 'платить', 'страховые', 'взносы', 'в', 'полном', 'объеме', '$', 'кроме', 'того', 'значительные', 'средства', 'теряются', 'из-за', 'неправильного', 'администрирования', '$', 'также', 'следует', 'отметить', 'что', 'поскольку', 'серьезно', 'формула', 'не', 'претерпела', 'изменений', 'то', 'и', 'размер', 'пенсии', 'значительно', 'не', 'увеличится', '$', 'в', 'отношении', 'увеличения', 'пенсий', 'для', 'работающих', 'граждан', 'следует', 'отметить', 'что', 'сегодня', 'многие', 'пенсионеры', 'вынуждены', 'работать', 'поскольку', 'им', 'не', 'хватает', 'пенсионных', 'накоплений', '$', 'поэтому', 'ситуация', 'с', 'пенсиями', 'кардинальным', 'образом', 'не', 'изменится', '$', 'под', 'кого', 'заточена', 'работа', 'избиркомов', 'предвыборный', 'скандал', 'в', 'саратове', 'региональные', 'отделения', 'четырех', 'политических', 'партий', 'обратились', 'к', 'президенту', 'россии', 'генпрокурору', 'и', 'главе', 'цик', 'с', 'жалобой', 'по', 'поводу', 'возможной', 'фальсификации', 'на', 'выборах', 'в', 'интересах', '„', 'единой', 'россии', '“', 'сообщает', 'newsru', '$', 'com', '$', 'в', 'воскресенье', 'марта', 'саратов', 'выбирает', 'депутатов', 'городской', 'думы', '$', 'региональные', 'выборы', 'пройдут', 'и', 'в', 'других', 'регионах', '$', 'в', 'десяти', 'субъектах', 'федерации', 'согласно', 'данным', 'цик', 'выбирают', 'депутатов', 'муниципальных', 'образований', 'а', 'еще', 'в', 'двенадцати', 'депутатов', 'областных', 'парламентов', '$', 'материалы', 'по', 'теме', 'блоги', 'выборы', 'региональные', 'выборы', 'предварительные', 'результаты', '+', 'статистика', 'за', 'лет', '$', 'kрф', 'регионы', 'выборы', 'статистика', 'события', 'объединение', 'партий', 'стало', 'возможным', 'потому', 'что', '„', 'единая', 'россия', '“', 'перешла', 'все', 'границы', 'кандидатам', 'отказывают', 'в', 'регистрации', 'избиркомы', 'и', 'суды', 'не', 'принимают', 'жалоб', 'или', 'рассматривают', 'их', 'необъективно', 'заявила', 'лидер', 'местного', 'обкома', 'кпрф', 'ольга', 'алимова', '$', 'если', 'вы', 'думаете', 'что', 'избиркомы', 'ведут', 'себя', 'так', 'только', 'в', 'саратове', 'то', 'вы', 'или', 'полный', 'идиот', 'или', 'сторонник', 'партии', 'власти', '$', 'я', 'имею', 'опыт', 'обращений', 'в', 'советскую', 'тик', 'территориальную', 'избирательную', 'комиссию', 'советского', 'района', 'кировской', 'области', '$', 'по', 'двум', 'поводам', 'мне', 'пришлось', 'обращаться', 'в', 'этот', 'орган', 'призванный', 'следить', 'регулировать', 'и', 'направлять', 'избирательный', 'процесс', '$', 'первый', 'раз', 'я', 'обратился', 'за', 'тем', 'чтобы', 'тик', 'дал', 'мне', 'перечень', 'предприятий', 'и', 'частных', 'предпринимателей', 'имеющих', 'законные', 'основания', 'выпускать', 'агитационную', 'продукцию', '$', 'вместо', 'перечня', 'мне', 'были', 'предоставлены', 'выписки', 'из', 'областного', 'закона', 'о', 'выборах', 'депутатов', 'законодательного', 'собрания', 'кировской', 'области', '$', 'обратился', 'повторно', 'т', '$', 'к', '$', 'сами', 'понимаете', 'разъяснение', 'закона', 'и', 'перечень', 'предприятий', 'не', 'одно', 'и', 'то', 'же', '$', 'тик', 'мало', 'того', 'что', 'ответила', 'с', 'опозданием', 'по', 'закону', 'на', 'ответ', 'отводится', 'дней', 'но', 'опять', 'же', 'не', 'указала', 'в', 'полном', 'объеме', 'те', 'данные', 'которые', 'дают', 'законные', 'основания', 'предприятиям', 'заниматься', 'выпуском', 'агитации', '$', 'самое', 'интересное', 'что', 'в', 'телефонном', 'разговоре', 'с', 'председателем', 'советской', 'тик', 'м', '$', 'и', '$', 'барановой', 'прозвучало', 'что', 'избирком', 'мог', 'бы', 'со', 'мной', 'в', 'переписку', 'вообще', 'не', 'вступать', 'т', '$', 'е', '$', 'не', 'отвечать', 'на', 'мою', 'обращение', '$', 'вторым', 'поводом', 'для', 'моего', 'контакта', 'с', 'этим', 'уже', 'не', 'уважаемым', 'мною', 'органом', 'стал', 'выпуск', 'чернухи', 'от', 'одного', 'из', 'кандидатов', '$', 'в', 'своем', 'заявлении', 'я', 'сослался', 'на', 'соответствующую', 'статью', 'областного', 'закона', 'и', 'попросил', 'пресечь', 'противоправную', 'деятельность', 'кандидата', '$', 'в', 'ответ', 'на', 'это', 'я', 'получил', 'текст', 'той', 'статьи', 'закона', 'на', 'которую', 'я', 'ссылался', 'и', 'всё', '$', 'ни', 'о', 'том', 'что', 'избирком', 'обсудил', 'этот', 'факт', 'ни', 'о', 'том', 'какие', 'меры', 'приняты', 'ни', 'о', 'какой-либо', 'реакции', 'этого', 'органа', 'ни', 'строчки', 'ни', 'буквы', '$', 'попробовал', 'достучаться', 'по', 'телефону', '$', 'ответ', 'этим', 'должны', 'заниматься', 'правоохранительные', 'органы', '$', 'прошу', 'напишите', 'мне', 'это', '$', 'ответ', 'не', 'будем', '$', 'пришлось', 'обратиться', 'в', 'облизбирком', '$', 'но', 'боюсь', 'что', 'должного', 'ответа', 'и', 'оценки', 'деятельности', 'советской', 'тик', 'мне', 'не', 'дождаться', '$', 'и', 'еще', 'одна', 'мысль', 'гложет', 'меня', 'как', 'писал', 'капитан', 'татаринов', 'в', 'книге', 'два', 'капитана', 'поедет', 'ли', 'после', 'выборов', 'председатель', 'советской', 'тик', 'на', 'мальдивы', 'как', 'это', 'ранее', 'произошло', 'после', 'других', 'выборов', 'и', 'с', 'другим', 'председателем', 'избиркома', 'анапские', 'прокуроры', 'зачищают', 'интернет', 'по-своему', '$', 'блокировка', 'google', 'и', 'других', '$', 'тема', 'блокировки', 'сайтов', 'уже', 'неоднократно', 'затрагивалась', 'нами', 'в', 'рамках', 'нашей', 'деятельности', 'по', 'мониторингу', 'и', 'оказанию', 'правовой', 'помощи', 'владельцам', 'сайтов', 'и', 'информационным', 'посредникам', '$', 'с', 'каждым', 'днем', 'блокировки', 'становятся', 'все', 'интересней', 'и', 'интересней', '$', 'и', 'хуже', 'всего', 'то', 'что', 'специальное', 'законодательство', 'которое', 'за', 'последние', 'два', 'года', 'начало', 'появляться', 'как', 'грибы', 'после', 'дождя', 'не', 'способно', 'установить', 'единые', 'понятные', 'и', 'прозрачные', 'для', 'всех', 'новые', 'правила', 'игры', 'в', 'рунете', '$', 'к', 'нам', 'через', 'роскомсвободу', 'стали', 'все', 'чаще', 'обращаться', 'интернет', 'провайдеры', 'из', 'различных', 'субъектов', 'страны', '$', 'причина', 'исковые', 'заявления', 'от', 'региональных', 'прокуратур', '$', 'пока', 'ген', '$', 'прокуратура', 'занимается', 'блокировкой', 'крупных', 'оппозиционных', 'сми', 'и', 'известных', 'блогеров', 'местнячковые', 'прокуроры', 'также', 'не', 'спят', 'и', 'борются', 'с', 'правонарушениями', 'в', 'сетевом', 'пространстве', 'своими', 'способами', '$', 'и', 'те', 'и', 'другие', 'демонстрируют', 'что', 'они', 'не', 'нуждаются', 'в', 'специальных', 'законах', 'для', 'того', 'чтобы', 'защищать', 'права', 'граждан', 'и', 'блокировать', 'противоправный', 'контент', 'в', 'сети', 'интернет', '$', 'должен', 'согласиться', 'с', 'г-ном', 'носиком', 'в', 'том', 'что', 'вместо', 'того', 'чтобы', 'принимать', 'множество', 'законодательных', 'актов', '№-фз', '№-фз', '№-фз', 'отвлекая', 'депутатов', 'от', 'другой', 'более', 'важной', 'работы', 'в', 'случаях', 'когда', 'надо', 'снова', 'расширять', 'закон', 'о', 'блокировках', 'и', 'заставляя', 'каждый', 'раз', 'рунет', 'обсуждать', 'очередную', 'абсурдную', 'блокировку', 'федерального', 'сми', 'или', 'чей-то', 'страничке', 'в', 'соцсетях', 'законодатели', 'могли', 'бы', 'принять', 'одну', 'единственную', 'правовую', 'формулировку', 'в', 'фз', 'об', 'информации', 'для', 'возможности', 'ограничения', 'информации', 'любые', 'сайты', 'могут', 'быть', 'заблокированы', 'любым', 'государственным', 'и', 'правоохранительным', 'органом', 'по', 'любым', 'основаниям', 'на', 'неограниченный', 'срок', 'без', 'объяснения', 'причин', 'и', 'без', 'предварительного', 'предупреждения', 'владельца', 'сайта', '$', 'может', 'в', 'таком', 'виде', 'и', 'звучит', 'норма', 'не', 'конституционненько', 'но', 'зато', 'полностью', 'отражает', 'фактическое', 'положение', 'вещей', '$', 'вообще', 'я', 'бы', 'рекомендовал', 'поменять', 'основной', 'закон', 'указав', 'в', 'ст', '$', 'конституции', 'что', 'в', 'россии', 'цензура', 'разрешена', 'в', 'случаях', 'предусмотренных', 'законом', '$', 'чего', 'уж', 'стестняться', 'в', 'свете', 'последних', 'событий', 'будто', 'не', 'знают', 'вовсе', 'анапские', 'прокуроры', 'о', 'существовании', 'единого', 'реестра', 'роскомнадзора', 'и', 'регламентированного', 'порядка', 'ограничения', 'доступа', 'к', 'информации', '$', 'при', 'этом', 'хочу', 'обратить', 'внимание', 'на', 'креативную', 'юридическую', 'аргументацию', 'которой', 'подтверждается', 'необходимость', 'немедленного', 'прокурорского', 'реагирования', 'доступ', 'к', 'информации', 'направленной', 'на', 'нарушение', 'целостности', 'российской', 'федерации', 'подрыв', 'безопасности', 'государства', 'разжигание', 'социальной', 'расовой', 'религиозной', 'розни', 'вызывает', 'неприязнь', 'к', 'культуре', 'граждан', 'русской', 'национальности', 'подрывает', 'основы', 'национальной', 'безопасности', 'российской', 'федерации', 'нарушает', 'конституционные', 'права', 'граждан', 'которые', 'они', 'могут', 'использовать', 'и', 'защищать', 'вне', 'зависимости', 'от', 'национальной', 'или', 'расовой', 'принадлежности', 'должен', 'быть', 'закрыт', '$', 'прокуроры', 'убеждены', 'что', 'по', 'долгу', 'службы', 'они', 'обязаны', 'обращаться', 'в', 'суд', 'в', 'целях', 'восстановления', 'нарушенных', 'прав', 'граждан', '$', 'при', 'этом', 'речь', 'в', 'данном', 'случае', 'идет', 'об', 'он-лайн', 'казино', 'и', 'покер', 'клубах', '$', 'у', 'меня', 'лишь', 'только', 'один', 'вопрос', 'неужели', 'во', 'всем', 'интернете', 'существует', 'всего', 'игровых', 'он-лайн', 'площадок', 'прокуроры', 'не', 'умеют', 'пользоваться', 'поисковиками', 'или', 'быть', 'может', 'это', 'стратегический', 'ход', 'чтобы', 'подавать', 'подобные', 'иски', 'каждую', 'неделю', 'дабы', 'увеличивать', 'статистику', 'ведомства', 'по', 'правоохранительной', 'деятельности', 'в', 'субъекте', 'сама', 'природа', 'таких', 'исков', 'в', 'которых', 'ответчиками', 'выступают', 'провайдеры', 'довольно', 'странное', 'правовое', 'явление', '$', 'я', 'еще', 'могу', 'понять', 'когда', 'провайдера', 'привлекают', 'в', 'качестве', 'третьего', 'лица', 'для', 'исполнения', 'решения', 'суда', '$', 'но', 'делать', 'из', 'него', 'ответчика', 'на', 'которого', 'после', 'вынесения', 'решения', 'суда', 'как', 'на', 'проигравшую', 'сторону', 'еще', 'и', 'возлагаются', 'все', 'судебные', 'издержки', 'по', 'делу', 'очевидно', 'нарушает', 'принципы', 'логики', 'и', 'права', '$', 'с', 'таким', 'же', 'успехом', 'можно', 'привлекать', 'в', 'качестве', 'ответчика', 'почту', 'россии', 'и', 'требовать', 'от', 'нее', 'запрета', 'выдавать', 'те', 'или', 'иные', 'посылки', 'направляемые', 'с', 'нарушением', 'федерального', 'законодательства', 'или', 'тсж', 'с', 'требованием', 'не', 'пускать', 'в', 'подъезд', 'где', 'живет', 'правонарушитель', 'ни', 'его', 'самого', 'ни', 'кого-то', 'из', 'проживающих', 'соседей', '$', 'в', 'правовой', 'доктрине', 'имеется', 'такое', 'понятие', 'как', 'почтальонский', 'иммунитет', '$', 'суть', 'указанного', 'принципа', 'заключается', 'в', 'том', 'что', 'когда', 'кто-либо', 'пишет', 'письмо', 'кому-нибудь', 'почтальон', 'который', 'доставляет', 'письмо', 'получателю', 'ни', 'при', 'каких', 'обстоятельствах', 'не', 'должен', 'нести', 'ответственность', 'за', 'то', 'что', 'в', 'нем', 'написано', '$', 'представляется', 'абсолютно', 'разумным', 'требовать', 'чтобы', 'подобный', 'подход', 'применялся', 'и', 'онлайн', '$', 'однако', 'подобные', 'иски', 'прокуратуры', 'постоянно', 'подтачивают', 'почтальонский', 'иммунитет', 'который', 'долгое', 'время', 'являлся', 'одним', 'из', 'фундаментальных', 'принципов', 'работы', 'по', 'передаче', 'сообщений', 'и', 'перевозке', '$', 'подобная', 'правоприменительная', 'практика', 'создает', 'излишнюю', 'судебную', 'волокиту', 'для', 'и', 'так', 'перегруженных', 'российских', 'судов', 'и', 'что', 'самое', 'главное', 'суды', 'блокируют', 'тот', 'или', 'иной', 'сайт', 'навсегда', 'т', '$', 'к', '$', 'после', 'вступления', 'в', 'законную', 'силу', 'а', 'вступают', 'они', 'быстро', 'потому', 'что', 'обычно', 'провайдеры', 'по', 'ряду', 'очевидных', 'причин', 'не', 'хотят', 'судиться', 'с', 'прокуратурой', 'решения', 'судов', 'их', 'уже', 'никто', 'не', 'пересматривает', 'и', 'никто', 'не', 'отменяет', 'блокировки', 'после', 'удаления', 'неправомерного', 'контента', 'с', 'сайта', '$', 'вот', 'так', 'по', 'последнему', 'иску', 'от', 'анапской', 'межрайонной', 'прокуратуры', 'сервис', 'google', 'вопросы', 'и', 'ответы', 'будет', 'навсегда', 'недоступен', 'для', 'посещения', 'в', 'обычном', 'режиме', 'без', 'vpnов', 'и', 'дополнительных', 'фитч', 'пользователям', 'подключенным', 'к', 'тем', 'или', 'иным', 'провайдерам', 'а', 'учитывая', 'что', 'указанные', 'блокировки', 'проводятся', 'вне', 'реестра', 'пользователи', 'и', 'владельцы', 'сайтов', 'никогда', 'не', 'узнают', 'о', 'том', 'почему', 'тот', 'или', 'иной', 'сетевой', 'ресурс', 'не', 'работает', 'в', 'конкретном', 'регионе', '$', 'это', 'очень', 'опасная', 'тенденция', '$', 'в', 'конце', 'концов', 'в', 'чем', 'был', 'смысл', 'того', 'что', 'депутаты', 'принимали', 'все', 'эти', 'поправки', 'о', 'блокировках', 'а', 'мы', 'обсуждали', 'все', 'эти', 'законы', 'на', 'многочисленных', 'круглых', 'столах', 'по', 'развитию', 'отечественного', 'it', 'и', 'интернета', 'когда', 'прокуратура', 'имеет', 'возможность', 'заблокировать', 'любой', 'сайт', 'без', 'каких-либо', 'предусмотренных', 'законом', 'оснований', 'и', 'без', 'применения', 'специального', 'порядка', 'в', 'багдаде', 'все', 'спокойно', 'на', 'форуме', 'газеты', 'вятский', 'наблюдатель', 'февраля', 'появилась', 'запись', '„', 'путин', 'с', 'логотипом', 'единой', 'россии', 'по-прежнему', 'красуется', 'на', 'здании', 'сельхозакадемии', 'на', 'октябрьском', '$', 'а', 'между', 'прочим', 'там', 'находится', 'избирательный', 'участок', '№', '$', 'что', 'у', 'облизбиркома', 'и', 'прокуратуры', 'кишка', 'тонка', 'на', 'путина', 'руку', 'поднять', '“', '$', 'напомним', 'что', 'согласно', 'п', '$', 'ст', '$', 'федерального', 'закона', '№', '-фз', 'от', '$', '$', 'г', '$', '„', 'запрещается', 'вывешивать', 'расклеивать', 'размещать', 'печатные', 'агитационные', 'материалы', 'на', 'памятниках', 'обелисках', 'зданиях', 'сооружениях', 'и', 'в', 'помещениях', 'имеющих', 'историческую', 'культурную', 'или', 'архитектурную', 'ценность', 'а', 'также', 'в', 'зданиях', 'в', 'которых', 'размещены', 'избирательные', 'комиссии', 'помещения', 'для', 'голосования', 'и', 'на', 'расстоянии', 'менее', 'метров', 'от', 'входа', 'в', 'них', '“', '$', 'я', 'позвонил', 'в', 'областной', 'штаб', 'кировских', 'коммунистов', 'от', 'них', 'всегда', 'исходит', 'больше', 'всего', 'протестов', 'подавали', 'ли', 'они', 'в', 'облизбирком', 'протест', '$', 'оказалось', 'действительно', 'подавали', '$', 'но', 'в', 'результате', 'получили', 'отписку', 'из', 'которой', 'следует', 'что', '„', 'в', 'багдаде', 'все', 'спокойно', '“', '$', 'а', 'прокуратура', 'уже', 'давно', 'привыкла', 'не', 'замечать', 'нарушения', 'закона', 'со', 'стороны', '„', 'партии', 'власти', '“', '$', 'путин', 'говоря', 'о', 'ядерной', 'угрозе', 'ирана', 'сша', 'обманывали', 'весь', 'мир', 'москва', 'октября', 'аиф-москва', '$', 'власти', 'сша', 'обманывали', 'весь', 'мир', 'говоря', 'о', 'ядерной', 'угрозе', 'ирана', 'заявил', 'президент', 'рф', 'владимир', 'путин', 'во', 'время', 'заседания', 'международного', 'дискуссионного', 'клуба', 'валдай', '$', 'эксперты', 'выступление', 'путина', 'стало', 'кульминацией', 'заседания', 'клуба', 'валдай', 'на', 'днях', 'проведены', 'первые', 'испытания', 'про', 'сша', 'в', 'европе', '$', 'что', 'это', 'значит', 'это', 'значит', 'что', 'мы', 'когда', 'спорили', 'с', 'нашими', 'американскими', 'партнерами', 'были', 'правы', '$', 'нас', 'да', 'и', 'весь', 'мир', 'пытались', 'в', 'очередной', 'раз', 'ввести', 'в', 'заблуждение', 'а', 'сказать', 'совсем', 'проще', 'обманывали', 'цитирует', 'российская', 'газета', 'заявление', 'главы', 'государства', '$', 'при', 'этом', 'путин', 'подчеркнул', 'что', 'дело', 'отнюдь', 'не', 'в', 'гипотетической', 'ядерной', 'угрозе', 'а', 'в', 'попытке', 'разрушить', 'стратегический', 'баланс', 'изменить', 'соотношение', 'сил', 'в', 'свою', 'пользу', 'таким', 'образом', 'чтобы', 'не', 'просто', 'доминировать', 'а', 'иметь', 'возможность', 'диктовать', 'свою', 'волю', 'всем', 'и', 'своим', 'геополитическим', 'конкурентам', 'да', 'и', 'думаю', 'своим', 'союзникам', '$', 'как', 'подчеркнул', 'владимир', 'путин', 'такой', 'сценарий', 'развития', 'событий', 'вреден', 'для', 'всего', 'мира', 'включая', 'те', 'же', 'соединенные', 'штаты', '$', 'кроме', 'того', 'российский', 'лидер', 'напомнил', 'что', 'причина', 'которая', 'была', 'названа', 'поводом', 'для', 'строительства', 'системы', 'противоракетной', 'обороны', 'сша', 'исчезла', 'а', 'потому', 'весь', 'мир', 'был', 'бы', 'вправе', 'ожидать', 'что', 'и', 'работа', 'над', 'развитием', 'системы', 'про', 'сша', 'будет', 'прекращена', '$', 'напомним', 'также', 'в', 'своей', 'речи', 'владимир', 'путин', 'заявил', 'о', 'том', 'что', 'ядерное', 'оружие', 'сделало', 'невозможной', 'победу', 'в', 'глобальном', 'военном', 'конфликте', '$', 'по', 'словам', 'президента', 'итог', 'у', 'мировой', 'войны', 'может', 'быть', 'только', 'один', 'гарантированное', 'взаимное', 'уничтожение', '$', 'путин', 'добавил', 'попытка', 'создать', 'самое', 'разрушительное', 'оружие', 'сделало', 'бессмысленной', 'большую', 'войну', '$', 'уголовное', 'наказание', 'за', 'офшоры', 'следственный', 'комитет', 'рф', 'выступил', 'с', 'предложением', 'ввести', 'уголовное', 'наказание', 'за', 'сделки', 'с', 'целью', 'получения', 'налоговых', 'льгот', 'в', 'офшорных', 'юрисдикциях', '$', 'в', 'ведомстве', 'отмечают', 'подобный', 'опыт', 'сша', '$', 'предложение', 'прозвучало', 'на', 'круглом', 'столе', 'деофшоризация', 'экономики', 'россии', 'www', '$', 'dp', '$', 'ru', '$', 'смирнов', 'отметил', 'что', 'подобный', 'опыт', 'есть', 'у', 'сша', '$', 'в', 'америке', 'обращают', 'внимание', 'на', 'суть', 'сделки', 'а', 'не', 'на', 'форму', '$', 'если', 'нет', 'разумной', 'цели', 'то', 'у', 'сотрудников', 'налоговой', 'есть', 'возможность', 'исключения', 'последствий', 'сделки', '$', 'нарушитель', 'в', 'этом', 'случае', 'попадает', 'под', 'уголовное', 'преследование', '$', 'в', 'настоящее', 'время', 'ведется', 'борьба', 'с', 'оффшорами', 'и', 'выводом', 'капитала', 'из', 'россии', '$', 'однако', 'вывод', 'капитала', 'все', 'увеличивается', '$', 'по', 'данным', 'банка', 'россии', 'в', 'году', 'отток', 'капитала', 'из', 'страны', 'составил', 'миллиарда', 'долларов', '$', 'около', 'процентов', 'оттока', 'капитала', 'приходится', 'на', 'сомнительные', 'операции', '$', 'в', 'году', 'эти', 'цифры', 'еще', 'более', 'не', 'утешительные', '$', 'однако', 'введение', 'уголовной', 'ответственности', 'вряд', 'ли', 'сможет', 'улучшить', 'ситуацию', '$', 'дело', 'в', 'том', 'что', 'сегодня', 'уже', 'введена', 'уголовная', 'ответственность', 'статьями', 'и', 'уголовного', 'кодекса', 'за', 'налоговые', 'нарушения', '$', 'кроме', 'того', 'что', 'такое', 'разумная', 'цель', 'в', 'налоговом', 'законодательстве', 'это', 'понятие', 'не', 'определено', '$', 'при', 'этом', 'введение', 'уголовной', 'ответственности', 'за', 'притворные', 'и', 'мнимые', 'хозяйственные', 'операции', 'может', 'отразиться', 'негативно', 'на', 'добросовестных', 'налогоплательщиках', '$', 'дело', 'в', 'том', 'что', 'сегодня', 'есть', 'случаи', 'ошибок', 'налоговых', 'органов', 'когда', 'компаниям', 'не', 'возвращают', 'переплату', 'по', 'налогам', 'и', 'сборам', 'закрывают', 'счета', '$', 'и', 'свою', 'правоту', 'компаниям', 'приходится', 'доказывать', 'в', 'судебном', 'порядке', '$', 'и', 'борьба', 'с', 'мнимыми', 'и', 'притворными', 'операциями', 'может', 'привести', 'к', 'еще', 'большему', 'количеству', 'ошибок', '$', 'в', 'последнее', 'время', 'законодательство', 'становится', 'более', 'жестким', 'по', 'отношению', 'к', 'налогоплательщику', 'расширяются', 'права', 'налогового', 'органа', 'например', 'налоговые', 'органы', 'получили', 'право', 'взыскивать', 'недоимку', 'с', 'дочерних', 'обществ', 'в', 'соответствии', 'с', 'п', '$', 'ст', '$', 'возможно', 'наложение', 'ареста', 'на', 'имущество', 'до', 'решения', 'о', 'взыскании', 'налога', 'на', 'счет', 'иного', 'имущества', 'с', 'года', 'вводятся', 'новые', 'основания', 'в', 'статью', 'налогового', 'кодекса', 'касающиеся', 'блокировки', 'счетов', '$', 'и', 'это', 'оказывает', 'все', 'большее', 'влияние', 'на', 'бизнес', '$', 'и', 'введение', 'уголовной', 'ответственности', 'также', 'окажет', 'негативное', 'влияние', 'прежде', 'всего', 'на', 'действующие', 'предприятия', '$', 'ведь', 'работающий', 'бизнес', 'не', 'защищен', 'от', 'ошибок', 'налоговых', 'органов', '$', 'россияне', 'стали', 'больше', 'верить', 'телевизору', 'опрос', 'москва', 'октября', 'аиф-москва', '$', 'левада-центр', 'сообщает', 'что', 'россиян', 'значительно', 'или', 'полностью', 'доверяют', 'информации', 'основных', 'телеканалов', 'о', 'событиях', 'в', 'стране', 'передает', 'интерфакс', '$', 'голос', 'цифрового', 'поколения', 'отмечается', 'что', 'данный', 'показатель', 'с', 'года', 'вырос', 'на', '$', 'при', 'этом', 'частично', 'доверяют', 'телевизионным', 'сообщениям', 'опрошенных', 'по', 'сравнению', 'с', 'в', 'году', 'а', 'высказали', 'полное', 'недоверие', 'в', 'году', '$', 'вместе', 'с', 'тем', 'отношение', 'к', 'информации', 'о', 'событиях', 'в', 'стране', 'распространяемой', 'в', 'интернете', 'у', 'россиян', 'более', 'скептическое', '$', 'так', 'доверяют', 'написанному', 'в', 'сети', 'полностью', 'отчасти', 'высказали', 'абсолютное', 'недоверие', '$', 'в', 'году', 'эти', 'показатели', 'были', 'на', 'уровне', 'и', 'соответственно', '$', 'также', 'россиян', 'рассказали', 'что', 'во', 'время', 'получения', 'информации', 'из', 'сми', 'у', 'них', 'часто', 'складывается', 'впечатление', 'что', 'им', 'что-то', 'недоговаривают', '$', 'россиян', 'и', 'вовсе', 'утверждают', 'что', 'сми', 'дают', 'заведомо', 'ложную', 'информацию', '$', 'социологический', 'опрос', 'проводился', 'октября', 'среди', 'человек', 'в', 'населенных', 'пунктах', 'регионов', 'рф', '$', 'спасская', 'башня', 'сегодня', 'на', 'красной', 'площади', 'открылся', 'фестиваль', 'военных', 'оркестров']\n"
     ]
    }
   ],
   "source": [
    "print(news_tokens[4000:10000])"
   ]
  },
  {
   "cell_type": "markdown",
   "metadata": {},
   "source": [
    "##### Исследование, скольких сленговых слов нет в модели word2vec."
   ]
  },
  {
   "cell_type": "code",
   "execution_count": 14,
   "metadata": {
    "collapsed": false
   },
   "outputs": [],
   "source": [
    "slang = 0\n",
    "slang_not_in_w2v=0\n",
    "watched = []\n",
    "for word in comments_tokens:\n",
    "    if stemmer.stem(word) not in watched:\n",
    "        if stemmer.stem(word) not in news_tokens:\n",
    "            slang += 1\n",
    "            try:\n",
    "                res = model[word]\n",
    "            except KeyError:\n",
    "                slang_not_in_w2v += 1\n",
    "        watched.append(stemmer.stem(word))"
   ]
  },
  {
   "cell_type": "code",
   "execution_count": 15,
   "metadata": {
    "collapsed": false
   },
   "outputs": [
    {
     "name": "stdout",
     "output_type": "stream",
     "text": [
      "6340\n",
      "6081\n"
     ]
    }
   ],
   "source": [
    "print(slang)\n",
    "print(slang_not_in_w2v)"
   ]
  },
  {
   "cell_type": "markdown",
   "metadata": {},
   "source": [
    "##### Пишем генераторы n-грамм. Составляем словари, где ключи - n-граммы, значение - частота."
   ]
  },
  {
   "cell_type": "code",
   "execution_count": 34,
   "metadata": {
    "collapsed": false
   },
   "outputs": [],
   "source": [
    "from collections import defaultdict\n",
    "#ЗДЕСЬ ВМЕСТО ТОЧЕК СТОЯТ БАКСЫ. СЧИТАЕМ ИХ. УЧИТЫВАЕМ В МОДЕЛЯХ.\n",
    "def get_unigrams(tokens_list):\n",
    "    for i in range(len(tokens_list)):\n",
    "        #if (tokens_list[i] != \".\"):\n",
    "        yield tokens_list[i]\n",
    "\n",
    "def get_bigrams(tokens_list):\n",
    "    for i in range(len(tokens_list)-1):\n",
    "        #if (tokens_list[i] != \".\") and (tokens_list[i+1] != \".\"):\n",
    "        yield tokens_list[i], tokens_list[i+1]\n",
    "        \n",
    "def get_trigrams(tokens_list):\n",
    "    for i in range(len(tokens_list)-2):\n",
    "        #if (tokens_list[i] != \".\") and (tokens_list[i+1] != \".\") and (tokens_list[i+2] != \".\"):\n",
    "        yield tokens_list[i], tokens_list[i+1], tokens_list[i+2]\n",
    "            \n",
    "unigrams = {}\n",
    "bigrams = {}\n",
    "trigrams = {}\n",
    "\n",
    "for a in get_unigrams(news_tokens):\n",
    "    if (a) in unigrams:\n",
    "        unigrams[a] += 1\n",
    "    else:\n",
    "        unigrams[a] = 1\n",
    "        \n",
    "for a, b in get_bigrams(news_tokens):\n",
    "    #print(a,b)\n",
    "    if (a, b) in bigrams:\n",
    "        bigrams[a, b] += 1\n",
    "    else:\n",
    "        bigrams[a, b] = 1\n",
    "\n",
    "for a, b, c in get_trigrams(news_tokens):\n",
    "    if (a, b, c) in trigrams:\n",
    "        trigrams[a, b, c] += 1\n",
    "    else:\n",
    "        trigrams[a, b, c] = 1"
   ]
  },
  {
   "cell_type": "markdown",
   "metadata": {},
   "source": [
    "##### Обучаем модели би- и триграмма."
   ]
  },
  {
   "cell_type": "code",
   "execution_count": 16,
   "metadata": {
    "collapsed": false,
    "scrolled": true
   },
   "outputs": [],
   "source": [
    "bigram_model = {}\n",
    "trigram_model = {}\n",
    "#Good-Turing discount: c* = (c+1)N_c+1/N_c, P* = c*/c (P = c/c)\n",
    "for (t0, t1), freq in bigrams.items():\n",
    "    if \"$\" not in (t0, t1):\n",
    "        if (t0) in bigram_model:\n",
    "            bigram_model[t0].update({t1 : freq/unigrams[t0]})\n",
    "        else:\n",
    "            bigram_model[t0] = {t1 : freq/unigrams[t0]}\n",
    "\n",
    "for (t0, t1, t2), freq in trigrams.items():\n",
    "    if \"$\" not in (t0, t1, t2):\n",
    "        if (t0, t1) in trigram_model:\n",
    "            trigram_model[t0, t1].update({t2 : freq/bigrams[t0, t1]})\n",
    "        else:\n",
    "            trigram_model[t0, t1] = {t2 : freq/bigrams[t0, t1]}"
   ]
  },
  {
   "cell_type": "code",
   "execution_count": null,
   "metadata": {
    "collapsed": false
   },
   "outputs": [
    {
     "name": "stdout",
     "output_type": "stream",
     "text": [
      "bigram num 10002617\n"
     ]
    }
   ],
   "source": [
    "def reverse(t0, t1):\n",
    "    if (t1,t0) in bigrams:\n",
    "        return bigrams[t1,t0]\n",
    "    else:\n",
    "        return 0\n",
    "\n",
    "hi_bi_dict_smart = {}\n",
    "N = len(news_tokens) - unigrams[\"$\"]\n",
    "bigrams_num = len(news_tokens) - 1\n",
    "print(\"bigram num\", bigrams_num)\n",
    "\n",
    "for (t0, t1), freq in bigrams.items():\n",
    "    if not \"$\" in (t0,t1):\n",
    "        #print(t0,t1)\n",
    "        if (unigrams[t0]>20) or (unigrams[t1]>20):\n",
    "            t0_dot = 0\n",
    "            t1_dot = 0\n",
    "            if (t0, \"$\") in bigrams:\n",
    "                t0_dot = bigrams[t0, \"$\"]\n",
    "            if (t1, \"$\") in bigrams:\n",
    "                t1_dot = bigrams[t1, \"$\"]\n",
    "            O_11 = freq\n",
    "            #print(\"O_11\", O_11)\n",
    "\n",
    "            O_12 = 2*unigrams[t0] - t0_dot - reverse(t0,\"$\") - bigrams[t0,t1] - reverse(t0,t1)\n",
    "            #print(\"O_12\", O_12)\n",
    "            O_21 = 2*unigrams[t1] - t1_dot - reverse(t1,\"$\") - bigrams[t0,t1] - reverse(t0,t1)\n",
    "            #print(\"O_21\", O_21)\n",
    "            O_22 = bigrams_num - O_12 - O_21 - O_11 - 2*unigrams[\"$\"] + 2 #include/exclude formula LEN PIZDEC\n",
    "            #print(\"O_22\", O_22)\n",
    "            if ((O_11+O_12)*(O_11+O_21)*(O_12+O_22)*(O_21+O_22)) == 0:\n",
    "                hi_bi_dict_smart[t0, t1] = 0\n",
    "            else:\n",
    "                hi_bi_dict_smart[t0, t1] = (N*((O_11*O_22-O_21*O_12)**2))/((O_11+O_12)*(O_11+O_21)*(O_12+O_22)*(O_21+O_22))\n",
    "        else:\n",
    "            hi_bi_dict_smart[t0, t1] = -7"
   ]
  },
  {
   "cell_type": "code",
   "execution_count": null,
   "metadata": {
    "collapsed": false
   },
   "outputs": [],
   "source": [
    "import operator\n",
    "sorted_hi = sorted(hi_bi_dict_smart.items(), key=operator.itemgetter(1), reverse = True)\n",
    "print(sorted_hi[:200])"
   ]
  },
  {
   "cell_type": "code",
   "execution_count": 22,
   "metadata": {
    "collapsed": false
   },
   "outputs": [
    {
     "name": "stdout",
     "output_type": "stream",
     "text": [
      "33\n"
     ]
    }
   ],
   "source": [
    "print(unigrams['гаек'])"
   ]
  },
  {
   "cell_type": "code",
   "execution_count": 27,
   "metadata": {
    "collapsed": false
   },
   "outputs": [
    {
     "name": "stdout",
     "output_type": "stream",
     "text": [
      "[(3, 4), (4, 3)]\n"
     ]
    }
   ],
   "source": [
    "import operator\n",
    "x = {1: 2, 3: 4, 4: 3, 2: 1, 0: 0}\n",
    "sorted_x = sorted(x.items(), key=operator.itemgetter(1), reverse = True)\n",
    "print(sorted_x[:2])"
   ]
  },
  {
   "cell_type": "code",
   "execution_count": 13,
   "metadata": {
    "collapsed": false
   },
   "outputs": [
    {
     "name": "stdout",
     "output_type": "stream",
     "text": [
      "[(('долговечную', 'эстетичную'), 2319095.4151661554), (('портсмуте', 'фор-марсель'), 2319095.4151661554), (('сшиванию', 'полотнищ'), 2319095.4151661554), (('лошадиным', 'дозам'), 2319095.4151661554), (('обескураживающую', 'непросвещенность'), 2319095.4151661554), (('кумачовый', 'пунцовый'), 2319095.4151661554), (('майдельшталь', 'манданштан'), 2319095.4151661554), (('кл', 'сукер'), 2319095.4151661554), (('карант', 'мангольство'), 2319095.4151661554), (('новоселки', 'лошницкой'), 2319095.4151661554), (('скрунда', 'кулдигского'), 2319095.4151661554), (('никраце', 'скрунде'), 2319095.4151661554), (('скрунде', 'кулдигский'), 2319095.4151661554), (('мастыни', 'салдусский'), 2319095.4151661554), (('нарративе', 'описывающим'), 2319095.4151661554), (('осам', 'муслимского'), 2319095.4151661554), (('совместеног', 'опарада'), 2319095.4151661554), (('анти-коминтерновскому', 'пакут'), 2319095.4151661554), (('таой', 'вопро'), 2319095.4151661554), (('звероватым', 'падишахом'), 2319095.4151661554), (('самаритянин', 'мобо'), 2319095.4151661554), (('крестообразно', 'освященную'), 2319095.4151661554), (('обелиском', 'стелой'), 2319095.4151661554), (('декоративно-лиственными', 'кустарниками'), 2319095.4151661554), (('кебезень', 'турочакский'), 2319095.4151661554), (('купаляна', 'цолака'), 2319095.4151661554), (('коростеньском', 'укрепленном'), 2319095.4151661554), (('самопровозглашенный', 'халиф'), 2319095.4151661554), (('бакр', 'аль-багдади'), 2319095.4151661554), (('институционализированный', 'облечённый'), 2319095.4151661554), (('радушному', 'приглашателю'), 2319095.4151661554), (('интерпретировали', 'андрюхины'), 2319095.4151661554), (('годовалой', 'лялечки'), 2319095.4151661554), (('федоры', 'холодовой'), 2319095.4151661554), (('купоросное', 'елхи'), 2319095.4151661554), (('ракотино', 'карповская'), 2319095.4151661554), (('мариновки', 'прудбоя'), 2319095.4151661554), (('золочеными', 'иконостасами'), 2319095.4151661554), (('сверхтяжелые', 'мортиры'), 2319095.4151661554), (('усэ', 'тэж'), 2319095.4151661554), (('тэж', 'украйинци'), 2319095.4151661554), (('украйинци', 'зробылы'), 2319095.4151661554), (('зробылы', 'бандэра'), 2319095.4151661554), (('бандэра', 'особысто'), 2319095.4151661554), (('числительными', 'козырять'), 2319095.4151661554), (('главное-отвлечь', 'лохторат'), 2319095.4151661554), (('найиональные', 'интересыю'), 2319095.4151661554), (('родившие', 'усыновившие'), 2319095.4151661554), (('летне-осенних', 'депутских'), 2319095.4151661554), (('итатка', 'асиновского'), 2319095.4151661554), (('дедовом', 'чёрно-белом'), 2319095.4151661554), (('борщеца', 'сворили'), 2319095.4151661554), (('подвергавшемся', 'артобстрелам'), 2319095.4151661554), (('6*29*100', '=17000'), 2319095.4151661554), (('лицемерность', 'россказней'), 2319095.4151661554), (('весов-гипотетическая', 'недоказанная'), 2319095.4151661554), (('1000⁄15', '=66'), 2319095.4151661554), (('серпуховско—', 'тимирязпвской'), 2319095.4151661554), (('политолог-американист', 'арег'), 2319095.4151661554), (('самолётиками', 'навоюешь'), 2319095.4151661554), (('пестрить', 'фотогрфиями'), 2319095.4151661554), (('ремя', 'жизнив'), 2319095.4151661554), (('ультраисламская', 'фундаменталистская'), 2319095.4151661554), (('ухмылочками', 'погогатывая'), 2319095.4151661554), (('знаменку', 'волхонку'), 2319095.4151661554), (('нобхолимости', 'обезжать'), 2319095.4151661554), (('расстяний', 'мнждупересекающими'), 2319095.4151661554), (('ортогональными', 'пересечениями'), 2319095.4151661554), (('селякову', 'платежка'), 2319095.4151661554), (('льюиса—', 'могриджа'), 2319095.4151661554), (('разоренный', 'украми'), 2319095.4151661554), (('вашутино', 'павельцево'), 2319095.4151661554), (('роллердромов', 'велодромов'), 2319095.4151661554), (('гипертермофильных', 'микробных'), 2319095.4151661554), (('двухкилометровую', 'двухуровневую'), 2319095.4151661554), (('883', '942'), 2319095.4151661554), (('942', '406,0'), 2319095.4151661554), (('–211', '387624'), 2319095.4151661554), (('натерритории', 'саввино-строжевского'), 2319095.4151661554), (('кио', 'эбби'), 2319095.4151661554), (('скитальцев', 'приспосабливают'), 2319095.4151661554), (('апдайку', 'иствикские'), 2319095.4151661554), (('очарованными', 'сверхудачным'), 2319095.4151661554), (('риктус', 'эректус'), 2319095.4151661554), (('рэндолл', 'айнхорн'), 2319095.4151661554), (('голдберг', 'расселл'), 2319095.4151661554), (('расселл', 'харвард'), 2319095.4151661554), (('генералъ', 'адьютантъ'), 2319095.4151661554), (('адьютантъ', 'графъ'), 2319095.4151661554), (('яёй', 'кусама'), 2319095.4151661554), (('попсовыми', 'децибелами'), 2319095.4151661554), (('жанровой', 'сценкой'), 2319095.4151661554), (('акима', 'карнеева'), 2319095.4151661554), (('демократии-2', 'голосуется'), 2319095.4151661554), (('раздолбайный', 'обкурок'), 2319095.4151661554), (('лабаса', 'древина'), 2319095.4151661554), (('флоренского', 'знакомящего'), 2319095.4151661554), (('хавьером', 'бардемом'), 2319095.4151661554), (('критикессе', 'табите'), 2319095.4151661554), (('мыслинской', 'анималистики'), 2319095.4151661554)]\n"
     ]
    }
   ],
   "source": [
    "print(sorted_hi[4000:4100])"
   ]
  },
  {
   "cell_type": "code",
   "execution_count": null,
   "metadata": {
    "collapsed": true
   },
   "outputs": [],
   "source": []
  },
  {
   "cell_type": "markdown",
   "metadata": {},
   "source": [
    "##### Используя модель биграмма, ищем синонимы к второму слову из биграммы из комментариев, если второго слова нет в модели биграмма, а первое - есть."
   ]
  },
  {
   "cell_type": "code",
   "execution_count": 23,
   "metadata": {
    "collapsed": false
   },
   "outputs": [],
   "source": [
    "def get_key(dictionary, value):\n",
    "    answer = []\n",
    "    for k, v in dictionary.items():\n",
    "        if v == value:\n",
    "            answer.append(k)\n",
    "    return answer\n",
    "\n",
    "#def unstem(dictionary, stemmed_word):\n",
    "#    for k in dictionary.keys():\n",
    "#        if stemmer.stem(k) == stemmed_word:\n",
    "#            return stemmed_word\n",
    "#    return None\n",
    "#stemmed_unigrams = []\n",
    "\n",
    "#for a in get_unigrams(comments_tokens):\n",
    "#    stemmed_word = stemmer.stem(a)\n",
    "#    if (stemmed_word) not in stemmed_unigrams:\n",
    "#        stemmed_unigrams.append(stemmed_word)\n",
    "\n",
    "stemmed_dict = {}\n",
    "\n",
    "uni_from_bi_dict = {}\n",
    "for a, b in get_bigrams(comments_tokens):\n",
    "    if not (b in unigrams):\n",
    "        if (a) in bigram_model:\n",
    "            stemmed_word = stemmer.stem(b)\n",
    "            if (stemmed_word) not in stemmed_dict.keys():\n",
    "                stemmed_dict[stemmed_word] = b\n",
    "                dict_input = b #dict_input - какой ключ мы положим в словарь \n",
    "            else:\n",
    "                dict_input = stemmed_dict[stemmed_word]\n",
    "            \n",
    "            max_prob = max(bigram_model[a].values())\n",
    "            likely_words = get_key(bigram_model[a], max_prob)\n",
    "            if (dict_input) in uni_from_bi_dict:\n",
    "                for word in likely_words:\n",
    "                    if not (word in uni_from_bi_dict[dict_input]):\n",
    "                        uni_from_bi_dict[dict_input].append(word)\n",
    "            else:\n",
    "                uni_from_bi_dict[dict_input] = likely_words"
   ]
  },
  {
   "cell_type": "markdown",
   "metadata": {},
   "source": [
    "##### Используя модель триграмма, ищем синонимы к третьему слову из триграммы из комментариев, если третьего слова нет в модели, а первое и второе - есть."
   ]
  },
  {
   "cell_type": "code",
   "execution_count": 24,
   "metadata": {
    "collapsed": false
   },
   "outputs": [],
   "source": [
    "uni_from_tri_dict = {}\n",
    "for a, b, c in get_trigrams(comments_tokens):\n",
    "    if not (c in unigrams):\n",
    "        if (a, b) in trigram_model:\n",
    "            stemmed_word = stemmer.stem(c)\n",
    "            dict_input = stemmed_dict[stemmed_word] #мы уже точно один раз прошлись по всем комментариям и взяли stem.\n",
    "            max_prob = max(trigram_model[a, b].values())\n",
    "            likely_words = get_key(trigram_model[a, b], max_prob)\n",
    "            if (dict_input) in uni_from_tri_dict:\n",
    "                for word in likely_words:\n",
    "                    if not (word in uni_from_tri_dict[dict_input]):\n",
    "                        uni_from_tri_dict[dict_input].append(word)\n",
    "            else:\n",
    "                uni_from_tri_dict[dict_input] = likely_words"
   ]
  },
  {
   "cell_type": "markdown",
   "metadata": {},
   "source": [
    "##### Распечатаем полученные словари в файлы:"
   ]
  },
  {
   "cell_type": "code",
   "execution_count": 26,
   "metadata": {
    "collapsed": false
   },
   "outputs": [],
   "source": [
    "def print_dict(dictionary, output_name):\n",
    "    output = open(\"results\\\\\"+output_name, \"w\", encoding = \"utf8\" )\n",
    "    for key in sorted(dictionary):\n",
    "        if (key != \"\"):\n",
    "            output.write(key+' : ')\n",
    "            for word in dictionary[key]:\n",
    "                if (word != \"\"):\n",
    "                    output.write(word+\", \")\n",
    "            output.write(\"\\n\")\n",
    "    output.close()\n",
    "print_dict(uni_from_bi_dict, \"uni_from_bi.txt\")\n",
    "print_dict(uni_from_tri_dict, \"uni_from_tri.txt\")"
   ]
  },
  {
   "cell_type": "markdown",
   "metadata": {},
   "source": [
    "##### Вопрос: как считать, что является сленгом, а что нет? Считаем, что тут поможет w2v на википедии, thus корпус новостей тоже содержит сленг + сложно токенизировать."
   ]
  },
  {
   "cell_type": "markdown",
   "metadata": {},
   "source": [
    "### Первый ансамбль:  проверяем, что сленг, а что нет, по w2v wiki. Далее, для сленга по w2v ищем синонимы, из них снова отбираем те, что есть в w2v wiki. Добавляем оттуда синонимы синонимов. Отдельно для сравнения методов ищем синонимы по N-граммам из корпуса новостей. \n",
    "Можно среди синонимов искать те, что вместе с предыдущим словом образуют биграмму. Можно считать также хи квадрат от них, и отдавать предпочтение тем, где он выше, если таковых несколько - ранжирование синонимов по качеству! Хотя как раз такое ранжирование и представляет выход w2v, если брать сверху вниз...\n",
    "----  нельзя использовать wiki для выделения сленга по стемам, потому что она не стемовая. Качество - отстой. Можно брать для однокоренных слов синонимы и записывать их в одно поле словаря, внимание на повторяющиеся синонимы для однокоренных - сделано, теперь пайморфи. Идея: сленг встречается хотя бы несколько раз. Поэтому оставляем словарь юниграмм. Окей, теперь сленга на порядок меньше, он качественный, но синонимы - все равно говно. Что делать?"
   ]
  },
  {
   "cell_type": "code",
   "execution_count": 63,
   "metadata": {
    "collapsed": true
   },
   "outputs": [],
   "source": [
    "def get_unigrams(tokens_list):\n",
    "    for i in range(len(tokens_list)):\n",
    "        #if (tokens_list[i] != \".\"):\n",
    "        yield tokens_list[i]\n",
    "            \n",
    "unigrams = {}\n",
    "\n",
    "for a in get_unigrams(comments_tokens):\n",
    "    if (a) in unigrams:\n",
    "        unigrams[a] += 1\n",
    "    else:\n",
    "        unigrams[a] = 1\n",
    "        \n"
   ]
  },
  {
   "cell_type": "code",
   "execution_count": 72,
   "metadata": {
    "collapsed": false
   },
   "outputs": [],
   "source": [
    "#watched = []\n",
    "slang = []\n",
    "for word in unigrams.keys():\n",
    "    #print(word)\n",
    "    if unigrams[word] >= 7:\n",
    "        try:\n",
    "            res = wiki[word]\n",
    "        except KeyError:\n",
    "            slang.append(word)\n",
    "        watched.append(word)\n"
   ]
  },
  {
   "cell_type": "code",
   "execution_count": 75,
   "metadata": {
    "collapsed": false
   },
   "outputs": [
    {
     "name": "stdout",
     "output_type": "stream",
     "text": [
      "451\n"
     ]
    }
   ],
   "source": [
    "#print(len(watched))\n",
    "print(len(slang))"
   ]
  },
  {
   "cell_type": "code",
   "execution_count": 16,
   "metadata": {
    "collapsed": true
   },
   "outputs": [],
   "source": [
    "model_unstem = Word2Vec(sentences = MySentences(comments_tokens), min_count=0, window = 10, sg = 1, hs = 1, negative = 0)"
   ]
  },
  {
   "cell_type": "code",
   "execution_count": 76,
   "metadata": {
    "collapsed": false
   },
   "outputs": [],
   "source": [
    "vectors_norm = model_norm.wv\n",
    "del model_norm"
   ]
  },
  {
   "cell_type": "code",
   "execution_count": 60,
   "metadata": {
    "collapsed": false
   },
   "outputs": [
    {
     "name": "stdout",
     "output_type": "stream",
     "text": [
      "расселять\n",
      "съесть\n",
      "нескучно\n",
      "обвести\n",
      "угодный\n",
      "зачмырил\n",
      "дурак\n",
      "названивать\n",
      "козлы\n",
      "ложа\n"
     ]
    }
   ],
   "source": [
    "for word in vectors_norm.similar_by_word(\"лох\"):\n",
    "    print(word[0])"
   ]
  },
  {
   "cell_type": "code",
   "execution_count": 77,
   "metadata": {
    "collapsed": false
   },
   "outputs": [],
   "source": [
    "w2v_dict = {}\n",
    "for word in slang:\n",
    "    if word == \"$\":\n",
    "        continue\n",
    "    syns = vectors_norm.similar_by_word(word)\n",
    "    good_syns = []\n",
    "    for syn in syns:\n",
    "        try:\n",
    "            res = wiki[syn[0]]\n",
    "        except KeyError:\n",
    "            continue\n",
    "        good_syns.append(syn[0])\n",
    "    w2v_dict[word] = good_syns"
   ]
  },
  {
   "cell_type": "code",
   "execution_count": 78,
   "metadata": {
    "collapsed": true
   },
   "outputs": [],
   "source": [
    "def print_dict(dictionary, output_name):\n",
    "    output = open(\"results\\\\\"+output_name, \"w\", encoding = \"utf8\" )\n",
    "    for key in sorted(dictionary):\n",
    "        if (key != \"\"):\n",
    "            output.write(key+' : ')\n",
    "            for word in dictionary[key]:\n",
    "                if (word != \"\"):\n",
    "                    output.write(word+\", \")\n",
    "            output.write(\"\\n\")\n",
    "    output.close()\n",
    "print_dict(w2v_dict, \"w2v_dict_normed.txt\")"
   ]
  }
 ],
 "metadata": {
  "kernelspec": {
   "display_name": "Python 3",
   "language": "python",
   "name": "python3"
  },
  "language_info": {
   "codemirror_mode": {
    "name": "ipython",
    "version": 3
   },
   "file_extension": ".py",
   "mimetype": "text/x-python",
   "name": "python",
   "nbconvert_exporter": "python",
   "pygments_lexer": "ipython3",
   "version": "3.6.0"
  }
 },
 "nbformat": 4,
 "nbformat_minor": 2
}
